{
 "cells": [
  {
   "cell_type": "code",
   "execution_count": 16,
   "metadata": {},
   "outputs": [],
   "source": [
    "import pandas as pd\n",
    "import numpy as np\n",
    "from sklearn.model_selection import train_test_split\n",
    "from sklearn.preprocessing import StandardScaler\n",
    "from sklearn.impute import SimpleImputer\n",
    "\n"
   ]
  },
  {
   "cell_type": "code",
   "execution_count": 17,
   "metadata": {},
   "outputs": [],
   "source": [
    "# Load the data from the CSV files\n",
    "tblusers = pd.read_csv('tblusers.csv')\n",
    "tblvehicles = pd.read_csv('tblvehicles.csv')\n",
    "tblbooking = pd.read_csv('tblbooking.csv')"
   ]
  },
  {
   "cell_type": "code",
   "execution_count": null,
   "metadata": {},
   "outputs": [],
   "source": [
    "# Merge the tables based on the 'VehicleId' column\n",
    "tblbooking = pd.merge(tblbooking, tblvehicles, on='VehicleId', how='left')\n",
    "\n",
    "# Merge the tables based on the 'userEmail' column\n",
    "tblbooking = pd.merge(tblbooking, tblusers, on='userEmail', how='left')"
   ]
  },
  {
   "cell_type": "code",
   "execution_count": 18,
   "metadata": {},
   "outputs": [
    {
     "name": "stdout",
     "output_type": "stream",
     "text": [
      "tblbooking columns: Index(['id', 'userEmail', 'VehicleId', 'FromDate', 'ToDate'], dtype='object')\n",
      "tblvehicles columns: Index(['id', 'VehiclesTitle', 'PricePerDay'], dtype='object')\n",
      "tblusers columns: Index(['id', 'FullName', 'EmailId'], dtype='object')\n"
     ]
    }
   ],
   "source": [
    "print(\"tblbooking columns:\", tblbooking.columns)\n",
    "print(\"tblvehicles columns:\", tblvehicles.columns)\n",
    "print(\"tblusers columns:\", tblusers.columns)"
   ]
  },
  {
   "cell_type": "code",
   "execution_count": null,
   "metadata": {},
   "outputs": [],
   "source": [
    "tblbooking = pd.merge(tblbooking, tblvehicles, on='id', how='left')\n",
    "tblbooking = pd.merge(tblbooking, tblusers, on='userEmail', how='left')"
   ]
  },
  {
   "cell_type": "code",
   "execution_count": null,
   "metadata": {},
   "outputs": [],
   "source": [
    "tblbooking = pd.merge(tblbooking, tblvehicles, on='VehicleId', how='left')\n",
    "tblbooking = pd.merge(tblbooking, tblusers, on='userEmail', how='left')"
   ]
  },
  {
   "cell_type": "code",
   "execution_count": null,
   "metadata": {},
   "outputs": [],
   "source": [
    "# Merge the tables based on the 'VehicleId' column\n",
    "tblbooking = pd.merge(tblbooking, tblvehicles, on='VehicleId', how='left')\n",
    "\n",
    "# Merge the tables based on the 'userEmail' column\n",
    "tblbooking = pd.merge(tblbooking, tblusers, on='userEmail', how='left')\n"
   ]
  }
 ],
 "metadata": {
  "kernelspec": {
   "display_name": "base",
   "language": "python",
   "name": "python3"
  },
  "language_info": {
   "codemirror_mode": {
    "name": "ipython",
    "version": 3
   },
   "file_extension": ".py",
   "mimetype": "text/x-python",
   "name": "python",
   "nbconvert_exporter": "python",
   "pygments_lexer": "ipython3",
   "version": "3.11.5"
  }
 },
 "nbformat": 4,
 "nbformat_minor": 2
}
