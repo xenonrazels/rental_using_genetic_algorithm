{
 "cells": [
  {
   "cell_type": "code",
   "execution_count": 1,
   "metadata": {},
   "outputs": [
    {
     "name": "stderr",
     "output_type": "stream",
     "text": [
      "c:\\Users\\Ripple\\AppData\\Local\\anaconda3\\Lib\\site-packages\\pandas\\core\\arrays\\masked.py:60: UserWarning: Pandas requires version '1.3.6' or newer of 'bottleneck' (version '1.3.5' currently installed).\n",
      "  from pandas.core import (\n"
     ]
    },
    {
     "ename": "ProgrammingError",
     "evalue": "Incorrect number of bindings supplied. The current statement uses 4, and there are 176 supplied.",
     "output_type": "error",
     "traceback": [
      "\u001b[1;31m---------------------------------------------------------------------------\u001b[0m",
      "\u001b[1;31mProgrammingError\u001b[0m                          Traceback (most recent call last)",
      "Cell \u001b[1;32mIn[1], line 32\u001b[0m\n\u001b[0;32m     29\u001b[0m data_list \u001b[38;5;241m=\u001b[39m [\u001b[38;5;28mstr\u001b[39m(i) \u001b[38;5;28;01mfor\u001b[39;00m i \u001b[38;5;129;01min\u001b[39;00m data]\n\u001b[0;32m     31\u001b[0m \u001b[38;5;66;03m# Insert the data into the table\u001b[39;00m\n\u001b[1;32m---> 32\u001b[0m \u001b[43mcursor\u001b[49m\u001b[38;5;241;43m.\u001b[39;49m\u001b[43mexecutemany\u001b[49m\u001b[43m(\u001b[49m\u001b[38;5;124;43m'\u001b[39;49m\u001b[38;5;124;43mINSERT INTO bikerental VALUES (?, ?, ?, ?)\u001b[39;49m\u001b[38;5;124;43m'\u001b[39;49m\u001b[43m,\u001b[49m\u001b[43m \u001b[49m\u001b[43mdata_list\u001b[49m\u001b[43m)\u001b[49m\n\u001b[0;32m     34\u001b[0m \u001b[38;5;66;03m# Commit the changes\u001b[39;00m\n\u001b[0;32m     35\u001b[0m conn\u001b[38;5;241m.\u001b[39mcommit()\n",
      "\u001b[1;31mProgrammingError\u001b[0m: Incorrect number of bindings supplied. The current statement uses 4, and there are 176 supplied."
     ]
    }
   ],
   "source": [
    "import sqlite3\n",
    "import pandas as pd\n",
    "\n",
    "# Create a connection to the SQLite database\n",
    "conn = sqlite3.connect('bikerental.db')\n",
    "\n",
    "# Create a cursor object\n",
    "cursor = conn.cursor()\n",
    "\n",
    "# Create the table\n",
    "cursor.execute('''\n",
    "CREATE TABLE IF NOT EXISTS bikerental (\n",
    "    id INTEGER PRIMARY KEY AUTOINCREMENT,\n",
    "    name TEXT NOT NULL,\n",
    "    slug TEXT NOT NULL,\n",
    "    content TEXT NOT NULL\n",
    ")\n",
    "''')\n",
    "\n",
    "# Create a pandas Series with the data\n",
    "data = [\n",
    "    (1, 'Terms and Conditions', 'terms', '<P align=justify><FONT size=2><STRONG><FONT color=#990000>(1) ACCEPTANCE OF TERMS</FONT><BR><BR></STRONG>Last updated: December 05, 2017'),\n",
    "    (2, 'Privacy Policy', 'privacy', '<P align=justify><FONT size=2><STRONG><FONT color=#990000>(1) PRIVACY POLICY</FONT><BR><BR></STRONG>Last updated: December 05, 2017'),\n",
    "    (3, 'Return Policy', 'return', '<P align=justify><FONT size=2><STRONG><FONT color=#990000>(1) RETURN POLICY</FONT><BR><BR></STRONG>Last updated: December 05, 2017'),\n",
    "    (4, 'Cancellation Policy', 'cancellation', '<P align=justify><FONT size=2><STRONG><FONT color=#990000>(1) CANCELLATION POLICY</FONT><BR><BR></STRONG>Last updated: December 05, 2017'),\n",
    "]\n",
    "\n",
    "# Convert the pandas Series to a list of strings\n",
    "data_list = [str(i) for i in data]\n",
    "\n",
    "# Insert the data into the table\n",
    "cursor.executemany('INSERT INTO bikerental VALUES (?, ?, ?, ?)', data_list)\n",
    "\n",
    "# Commit the changes\n",
    "conn.commit()\n",
    "\n",
    "# Close the connection\n",
    "conn.close()"
   ]
  },
  {
   "cell_type": "code",
   "execution_count": null,
   "metadata": {},
   "outputs": [],
   "source": []
  }
 ],
 "metadata": {
  "kernelspec": {
   "display_name": "base",
   "language": "python",
   "name": "python3"
  },
  "language_info": {
   "codemirror_mode": {
    "name": "ipython",
    "version": 3
   },
   "file_extension": ".py",
   "mimetype": "text/x-python",
   "name": "python",
   "nbconvert_exporter": "python",
   "pygments_lexer": "ipython3",
   "version": "3.11.5"
  }
 },
 "nbformat": 4,
 "nbformat_minor": 2
}
