{
 "cells": [
  {
   "cell_type": "code",
   "execution_count": 98,
   "metadata": {},
   "outputs": [],
   "source": [
    "import pandas as pd\n",
    "import numpy as np\n",
    "from sklearn.model_selection import train_test_split\n",
    "from sklearn.preprocessing import StandardScaler\n",
    "from sklearn.impute import SimpleImputer\n",
    "\n",
    "# Load the data from the CSV files\n",
    "tblusers = pd.read_csv('tblusers.csv')\n",
    "tblvehicles = pd.read_csv('tblvehicles.csv')\n",
    "tblbooking = pd.read_csv('tblbooking.csv')\n",
    "\n",
    "\n"
   ]
  },
  {
   "cell_type": "code",
   "execution_count": 99,
   "metadata": {},
   "outputs": [
    {
     "name": "stdout",
     "output_type": "stream",
     "text": [
      "tblbooking columns: Index(['id', 'userEmail', 'VehicleId', 'FromDate', 'ToDate'], dtype='object')\n",
      "tblvehicles columns: Index(['id', 'VehiclesTitle', 'PricePerDay'], dtype='object')\n",
      "tblusers columns: Index(['id', 'FullName', 'EmailId'], dtype='object')\n"
     ]
    }
   ],
   "source": [
    "print(\"tblbooking columns:\", tblbooking.columns)\n",
    "print(\"tblvehicles columns:\", tblvehicles.columns)\n",
    "print(\"tblusers columns:\", tblusers.columns)"
   ]
  },
  {
   "cell_type": "code",
   "execution_count": 100,
   "metadata": {},
   "outputs": [
    {
     "data": {
      "text/html": [
       "<div>\n",
       "<style scoped>\n",
       "    .dataframe tbody tr th:only-of-type {\n",
       "        vertical-align: middle;\n",
       "    }\n",
       "\n",
       "    .dataframe tbody tr th {\n",
       "        vertical-align: top;\n",
       "    }\n",
       "\n",
       "    .dataframe thead th {\n",
       "        text-align: right;\n",
       "    }\n",
       "</style>\n",
       "<table border=\"1\" class=\"dataframe\">\n",
       "  <thead>\n",
       "    <tr style=\"text-align: right;\">\n",
       "      <th></th>\n",
       "      <th>id</th>\n",
       "      <th>VehiclesTitle</th>\n",
       "      <th>PricePerDay</th>\n",
       "    </tr>\n",
       "  </thead>\n",
       "  <tbody>\n",
       "    <tr>\n",
       "      <th>0</th>\n",
       "      <td>1</td>\n",
       "      <td>Bike_1</td>\n",
       "      <td>140</td>\n",
       "    </tr>\n",
       "    <tr>\n",
       "      <th>1</th>\n",
       "      <td>2</td>\n",
       "      <td>Bike_2</td>\n",
       "      <td>154</td>\n",
       "    </tr>\n",
       "    <tr>\n",
       "      <th>2</th>\n",
       "      <td>3</td>\n",
       "      <td>Bike_3</td>\n",
       "      <td>64</td>\n",
       "    </tr>\n",
       "    <tr>\n",
       "      <th>3</th>\n",
       "      <td>4</td>\n",
       "      <td>Bike_4</td>\n",
       "      <td>148</td>\n",
       "    </tr>\n",
       "    <tr>\n",
       "      <th>4</th>\n",
       "      <td>5</td>\n",
       "      <td>Bike_5</td>\n",
       "      <td>168</td>\n",
       "    </tr>\n",
       "  </tbody>\n",
       "</table>\n",
       "</div>"
      ],
      "text/plain": [
       "   id VehiclesTitle  PricePerDay\n",
       "0   1        Bike_1          140\n",
       "1   2        Bike_2          154\n",
       "2   3        Bike_3           64\n",
       "3   4        Bike_4          148\n",
       "4   5        Bike_5          168"
      ]
     },
     "execution_count": 100,
     "metadata": {},
     "output_type": "execute_result"
    }
   ],
   "source": [
    "tblvehicles.head()"
   ]
  },
  {
   "cell_type": "code",
   "execution_count": 101,
   "metadata": {},
   "outputs": [
    {
     "data": {
      "text/html": [
       "<div>\n",
       "<style scoped>\n",
       "    .dataframe tbody tr th:only-of-type {\n",
       "        vertical-align: middle;\n",
       "    }\n",
       "\n",
       "    .dataframe tbody tr th {\n",
       "        vertical-align: top;\n",
       "    }\n",
       "\n",
       "    .dataframe thead th {\n",
       "        text-align: right;\n",
       "    }\n",
       "</style>\n",
       "<table border=\"1\" class=\"dataframe\">\n",
       "  <thead>\n",
       "    <tr style=\"text-align: right;\">\n",
       "      <th></th>\n",
       "      <th>id</th>\n",
       "      <th>userEmail</th>\n",
       "      <th>VehicleId</th>\n",
       "      <th>FromDate</th>\n",
       "      <th>ToDate</th>\n",
       "    </tr>\n",
       "  </thead>\n",
       "  <tbody>\n",
       "    <tr>\n",
       "      <th>0</th>\n",
       "      <td>1</td>\n",
       "      <td>matthewstewart@example.net</td>\n",
       "      <td>39</td>\n",
       "      <td>2021-01-01</td>\n",
       "      <td>2021-01-02</td>\n",
       "    </tr>\n",
       "    <tr>\n",
       "      <th>1</th>\n",
       "      <td>2</td>\n",
       "      <td>ediaz@example.net</td>\n",
       "      <td>43</td>\n",
       "      <td>2021-01-02</td>\n",
       "      <td>2021-01-03</td>\n",
       "    </tr>\n",
       "    <tr>\n",
       "      <th>2</th>\n",
       "      <td>3</td>\n",
       "      <td>elynch@example.org</td>\n",
       "      <td>64</td>\n",
       "      <td>2021-01-03</td>\n",
       "      <td>2021-01-04</td>\n",
       "    </tr>\n",
       "    <tr>\n",
       "      <th>3</th>\n",
       "      <td>4</td>\n",
       "      <td>jacksondana@example.org</td>\n",
       "      <td>34</td>\n",
       "      <td>2021-01-04</td>\n",
       "      <td>2021-01-05</td>\n",
       "    </tr>\n",
       "    <tr>\n",
       "      <th>4</th>\n",
       "      <td>5</td>\n",
       "      <td>ngarcia@example.net</td>\n",
       "      <td>51</td>\n",
       "      <td>2021-01-05</td>\n",
       "      <td>2021-01-06</td>\n",
       "    </tr>\n",
       "  </tbody>\n",
       "</table>\n",
       "</div>"
      ],
      "text/plain": [
       "   id                   userEmail  VehicleId    FromDate      ToDate\n",
       "0   1  matthewstewart@example.net         39  2021-01-01  2021-01-02\n",
       "1   2           ediaz@example.net         43  2021-01-02  2021-01-03\n",
       "2   3          elynch@example.org         64  2021-01-03  2021-01-04\n",
       "3   4     jacksondana@example.org         34  2021-01-04  2021-01-05\n",
       "4   5         ngarcia@example.net         51  2021-01-05  2021-01-06"
      ]
     },
     "execution_count": 101,
     "metadata": {},
     "output_type": "execute_result"
    }
   ],
   "source": [
    "tblbooking.head()"
   ]
  },
  {
   "cell_type": "code",
   "execution_count": 102,
   "metadata": {},
   "outputs": [
    {
     "data": {
      "text/html": [
       "<div>\n",
       "<style scoped>\n",
       "    .dataframe tbody tr th:only-of-type {\n",
       "        vertical-align: middle;\n",
       "    }\n",
       "\n",
       "    .dataframe tbody tr th {\n",
       "        vertical-align: top;\n",
       "    }\n",
       "\n",
       "    .dataframe thead th {\n",
       "        text-align: right;\n",
       "    }\n",
       "</style>\n",
       "<table border=\"1\" class=\"dataframe\">\n",
       "  <thead>\n",
       "    <tr style=\"text-align: right;\">\n",
       "      <th></th>\n",
       "      <th>id</th>\n",
       "      <th>FullName</th>\n",
       "      <th>EmailId</th>\n",
       "    </tr>\n",
       "  </thead>\n",
       "  <tbody>\n",
       "    <tr>\n",
       "      <th>0</th>\n",
       "      <td>1</td>\n",
       "      <td>Leslie Morales</td>\n",
       "      <td>wwallace@example.org</td>\n",
       "    </tr>\n",
       "    <tr>\n",
       "      <th>1</th>\n",
       "      <td>2</td>\n",
       "      <td>Angela Hancock</td>\n",
       "      <td>espinozaclinton@example.net</td>\n",
       "    </tr>\n",
       "    <tr>\n",
       "      <th>2</th>\n",
       "      <td>3</td>\n",
       "      <td>Brian Joseph</td>\n",
       "      <td>steven89@example.com</td>\n",
       "    </tr>\n",
       "    <tr>\n",
       "      <th>3</th>\n",
       "      <td>4</td>\n",
       "      <td>Kiara Guerra</td>\n",
       "      <td>eanderson@example.net</td>\n",
       "    </tr>\n",
       "    <tr>\n",
       "      <th>4</th>\n",
       "      <td>5</td>\n",
       "      <td>Eileen Cisneros</td>\n",
       "      <td>gary35@example.net</td>\n",
       "    </tr>\n",
       "  </tbody>\n",
       "</table>\n",
       "</div>"
      ],
      "text/plain": [
       "   id         FullName                      EmailId\n",
       "0   1   Leslie Morales         wwallace@example.org\n",
       "1   2   Angela Hancock  espinozaclinton@example.net\n",
       "2   3     Brian Joseph         steven89@example.com\n",
       "3   4     Kiara Guerra        eanderson@example.net\n",
       "4   5  Eileen Cisneros           gary35@example.net"
      ]
     },
     "execution_count": 102,
     "metadata": {},
     "output_type": "execute_result"
    }
   ],
   "source": [
    "tblusers.head()"
   ]
  },
  {
   "cell_type": "code",
   "execution_count": 103,
   "metadata": {},
   "outputs": [],
   "source": [
    "tblbooking['VehicleId'] = tblbooking['VehicleId'].replace(dict(zip(tblbooking['VehicleId'].unique(), tblvehicles['id'])))"
   ]
  },
  {
   "cell_type": "code",
   "execution_count": 104,
   "metadata": {},
   "outputs": [],
   "source": [
    "tblbooking['userEmail'] = tblbooking['userEmail'].replace(dict(zip(tblbooking['userEmail'].unique(), tblusers['EmailId'])))"
   ]
  },
  {
   "cell_type": "code",
   "execution_count": 105,
   "metadata": {},
   "outputs": [
    {
     "data": {
      "text/html": [
       "<div>\n",
       "<style scoped>\n",
       "    .dataframe tbody tr th:only-of-type {\n",
       "        vertical-align: middle;\n",
       "    }\n",
       "\n",
       "    .dataframe tbody tr th {\n",
       "        vertical-align: top;\n",
       "    }\n",
       "\n",
       "    .dataframe thead th {\n",
       "        text-align: right;\n",
       "    }\n",
       "</style>\n",
       "<table border=\"1\" class=\"dataframe\">\n",
       "  <thead>\n",
       "    <tr style=\"text-align: right;\">\n",
       "      <th></th>\n",
       "      <th>id</th>\n",
       "      <th>VehiclesTitle</th>\n",
       "      <th>PricePerDay</th>\n",
       "    </tr>\n",
       "  </thead>\n",
       "  <tbody>\n",
       "    <tr>\n",
       "      <th>0</th>\n",
       "      <td>1</td>\n",
       "      <td>Bike_1</td>\n",
       "      <td>140</td>\n",
       "    </tr>\n",
       "    <tr>\n",
       "      <th>1</th>\n",
       "      <td>2</td>\n",
       "      <td>Bike_2</td>\n",
       "      <td>154</td>\n",
       "    </tr>\n",
       "    <tr>\n",
       "      <th>2</th>\n",
       "      <td>3</td>\n",
       "      <td>Bike_3</td>\n",
       "      <td>64</td>\n",
       "    </tr>\n",
       "    <tr>\n",
       "      <th>3</th>\n",
       "      <td>4</td>\n",
       "      <td>Bike_4</td>\n",
       "      <td>148</td>\n",
       "    </tr>\n",
       "    <tr>\n",
       "      <th>4</th>\n",
       "      <td>5</td>\n",
       "      <td>Bike_5</td>\n",
       "      <td>168</td>\n",
       "    </tr>\n",
       "  </tbody>\n",
       "</table>\n",
       "</div>"
      ],
      "text/plain": [
       "   id VehiclesTitle  PricePerDay\n",
       "0   1        Bike_1          140\n",
       "1   2        Bike_2          154\n",
       "2   3        Bike_3           64\n",
       "3   4        Bike_4          148\n",
       "4   5        Bike_5          168"
      ]
     },
     "execution_count": 105,
     "metadata": {},
     "output_type": "execute_result"
    }
   ],
   "source": [
    "tblvehicles.head()"
   ]
  },
  {
   "cell_type": "code",
   "execution_count": 106,
   "metadata": {},
   "outputs": [
    {
     "data": {
      "text/html": [
       "<div>\n",
       "<style scoped>\n",
       "    .dataframe tbody tr th:only-of-type {\n",
       "        vertical-align: middle;\n",
       "    }\n",
       "\n",
       "    .dataframe tbody tr th {\n",
       "        vertical-align: top;\n",
       "    }\n",
       "\n",
       "    .dataframe thead th {\n",
       "        text-align: right;\n",
       "    }\n",
       "</style>\n",
       "<table border=\"1\" class=\"dataframe\">\n",
       "  <thead>\n",
       "    <tr style=\"text-align: right;\">\n",
       "      <th></th>\n",
       "      <th>id</th>\n",
       "      <th>EmailId</th>\n",
       "      <th>VehicleId</th>\n",
       "      <th>FromDate</th>\n",
       "      <th>ToDate</th>\n",
       "    </tr>\n",
       "  </thead>\n",
       "  <tbody>\n",
       "    <tr>\n",
       "      <th>0</th>\n",
       "      <td>1</td>\n",
       "      <td>wwallace@example.org</td>\n",
       "      <td>1</td>\n",
       "      <td>2021-01-01</td>\n",
       "      <td>2021-01-02</td>\n",
       "    </tr>\n",
       "    <tr>\n",
       "      <th>1</th>\n",
       "      <td>2</td>\n",
       "      <td>espinozaclinton@example.net</td>\n",
       "      <td>2</td>\n",
       "      <td>2021-01-02</td>\n",
       "      <td>2021-01-03</td>\n",
       "    </tr>\n",
       "    <tr>\n",
       "      <th>2</th>\n",
       "      <td>3</td>\n",
       "      <td>steven89@example.com</td>\n",
       "      <td>3</td>\n",
       "      <td>2021-01-03</td>\n",
       "      <td>2021-01-04</td>\n",
       "    </tr>\n",
       "    <tr>\n",
       "      <th>3</th>\n",
       "      <td>4</td>\n",
       "      <td>eanderson@example.net</td>\n",
       "      <td>4</td>\n",
       "      <td>2021-01-04</td>\n",
       "      <td>2021-01-05</td>\n",
       "    </tr>\n",
       "    <tr>\n",
       "      <th>4</th>\n",
       "      <td>5</td>\n",
       "      <td>gary35@example.net</td>\n",
       "      <td>5</td>\n",
       "      <td>2021-01-05</td>\n",
       "      <td>2021-01-06</td>\n",
       "    </tr>\n",
       "  </tbody>\n",
       "</table>\n",
       "</div>"
      ],
      "text/plain": [
       "   id                      EmailId  VehicleId    FromDate      ToDate\n",
       "0   1         wwallace@example.org          1  2021-01-01  2021-01-02\n",
       "1   2  espinozaclinton@example.net          2  2021-01-02  2021-01-03\n",
       "2   3         steven89@example.com          3  2021-01-03  2021-01-04\n",
       "3   4        eanderson@example.net          4  2021-01-04  2021-01-05\n",
       "4   5           gary35@example.net          5  2021-01-05  2021-01-06"
      ]
     },
     "execution_count": 106,
     "metadata": {},
     "output_type": "execute_result"
    }
   ],
   "source": [
    "tblbooking = tblbooking.rename(columns={'userEmail': 'EmailId'})\n",
    "\n",
    "tblbooking.head()"
   ]
  },
  {
   "cell_type": "code",
   "execution_count": 107,
   "metadata": {},
   "outputs": [
    {
     "data": {
      "text/html": [
       "<div>\n",
       "<style scoped>\n",
       "    .dataframe tbody tr th:only-of-type {\n",
       "        vertical-align: middle;\n",
       "    }\n",
       "\n",
       "    .dataframe tbody tr th {\n",
       "        vertical-align: top;\n",
       "    }\n",
       "\n",
       "    .dataframe thead th {\n",
       "        text-align: right;\n",
       "    }\n",
       "</style>\n",
       "<table border=\"1\" class=\"dataframe\">\n",
       "  <thead>\n",
       "    <tr style=\"text-align: right;\">\n",
       "      <th></th>\n",
       "      <th>id</th>\n",
       "      <th>FullName</th>\n",
       "      <th>EmailId</th>\n",
       "    </tr>\n",
       "  </thead>\n",
       "  <tbody>\n",
       "    <tr>\n",
       "      <th>0</th>\n",
       "      <td>1</td>\n",
       "      <td>Leslie Morales</td>\n",
       "      <td>wwallace@example.org</td>\n",
       "    </tr>\n",
       "    <tr>\n",
       "      <th>1</th>\n",
       "      <td>2</td>\n",
       "      <td>Angela Hancock</td>\n",
       "      <td>espinozaclinton@example.net</td>\n",
       "    </tr>\n",
       "    <tr>\n",
       "      <th>2</th>\n",
       "      <td>3</td>\n",
       "      <td>Brian Joseph</td>\n",
       "      <td>steven89@example.com</td>\n",
       "    </tr>\n",
       "    <tr>\n",
       "      <th>3</th>\n",
       "      <td>4</td>\n",
       "      <td>Kiara Guerra</td>\n",
       "      <td>eanderson@example.net</td>\n",
       "    </tr>\n",
       "    <tr>\n",
       "      <th>4</th>\n",
       "      <td>5</td>\n",
       "      <td>Eileen Cisneros</td>\n",
       "      <td>gary35@example.net</td>\n",
       "    </tr>\n",
       "  </tbody>\n",
       "</table>\n",
       "</div>"
      ],
      "text/plain": [
       "   id         FullName                      EmailId\n",
       "0   1   Leslie Morales         wwallace@example.org\n",
       "1   2   Angela Hancock  espinozaclinton@example.net\n",
       "2   3     Brian Joseph         steven89@example.com\n",
       "3   4     Kiara Guerra        eanderson@example.net\n",
       "4   5  Eileen Cisneros           gary35@example.net"
      ]
     },
     "execution_count": 107,
     "metadata": {},
     "output_type": "execute_result"
    }
   ],
   "source": [
    "tblusers.head()"
   ]
  },
  {
   "cell_type": "code",
   "execution_count": 108,
   "metadata": {},
   "outputs": [],
   "source": [
    "tblbooking['id'] = tblbooking['id'].astype(int)"
   ]
  },
  {
   "cell_type": "code",
   "execution_count": 109,
   "metadata": {},
   "outputs": [],
   "source": [
    "tblbooking = pd.merge(tblbooking, tblvehicles, on='id', how='left', suffixes=('', '_vehicle'))\n"
   ]
  },
  {
   "cell_type": "code",
   "execution_count": 110,
   "metadata": {},
   "outputs": [
    {
     "name": "stdout",
     "output_type": "stream",
     "text": [
      "tblbooking columns: Index(['id', 'EmailId', 'VehicleId', 'FromDate', 'ToDate', 'VehiclesTitle',\n",
      "       'PricePerDay'],\n",
      "      dtype='object')\n",
      "tblvehicles columns: Index(['id', 'VehiclesTitle', 'PricePerDay'], dtype='object')\n",
      "tblusers columns: Index(['id', 'FullName', 'EmailId'], dtype='object')\n"
     ]
    }
   ],
   "source": [
    "print(\"tblbooking columns:\", tblbooking.columns)\n",
    "print(\"tblvehicles columns:\", tblvehicles.columns)\n",
    "print(\"tblusers columns:\", tblusers.columns)"
   ]
  },
  {
   "cell_type": "code",
   "execution_count": 111,
   "metadata": {},
   "outputs": [],
   "source": [
    "\n",
    "\n",
    "\n",
    "\n",
    "tblbooking = pd.merge(tblbooking, tblusers, on='EmailId', how='left')\n"
   ]
  },
  {
   "cell_type": "code",
   "execution_count": 112,
   "metadata": {},
   "outputs": [
    {
     "data": {
      "text/html": [
       "<div>\n",
       "<style scoped>\n",
       "    .dataframe tbody tr th:only-of-type {\n",
       "        vertical-align: middle;\n",
       "    }\n",
       "\n",
       "    .dataframe tbody tr th {\n",
       "        vertical-align: top;\n",
       "    }\n",
       "\n",
       "    .dataframe thead th {\n",
       "        text-align: right;\n",
       "    }\n",
       "</style>\n",
       "<table border=\"1\" class=\"dataframe\">\n",
       "  <thead>\n",
       "    <tr style=\"text-align: right;\">\n",
       "      <th></th>\n",
       "      <th>id_x</th>\n",
       "      <th>EmailId</th>\n",
       "      <th>VehicleId</th>\n",
       "      <th>FromDate</th>\n",
       "      <th>ToDate</th>\n",
       "      <th>VehiclesTitle</th>\n",
       "      <th>PricePerDay</th>\n",
       "      <th>id_y</th>\n",
       "      <th>FullName</th>\n",
       "    </tr>\n",
       "  </thead>\n",
       "  <tbody>\n",
       "    <tr>\n",
       "      <th>0</th>\n",
       "      <td>1</td>\n",
       "      <td>wwallace@example.org</td>\n",
       "      <td>1</td>\n",
       "      <td>2021-01-01</td>\n",
       "      <td>2021-01-02</td>\n",
       "      <td>Bike_1</td>\n",
       "      <td>140</td>\n",
       "      <td>1</td>\n",
       "      <td>Leslie Morales</td>\n",
       "    </tr>\n",
       "    <tr>\n",
       "      <th>1</th>\n",
       "      <td>2</td>\n",
       "      <td>espinozaclinton@example.net</td>\n",
       "      <td>2</td>\n",
       "      <td>2021-01-02</td>\n",
       "      <td>2021-01-03</td>\n",
       "      <td>Bike_2</td>\n",
       "      <td>154</td>\n",
       "      <td>2</td>\n",
       "      <td>Angela Hancock</td>\n",
       "    </tr>\n",
       "    <tr>\n",
       "      <th>2</th>\n",
       "      <td>3</td>\n",
       "      <td>steven89@example.com</td>\n",
       "      <td>3</td>\n",
       "      <td>2021-01-03</td>\n",
       "      <td>2021-01-04</td>\n",
       "      <td>Bike_3</td>\n",
       "      <td>64</td>\n",
       "      <td>3</td>\n",
       "      <td>Brian Joseph</td>\n",
       "    </tr>\n",
       "    <tr>\n",
       "      <th>3</th>\n",
       "      <td>4</td>\n",
       "      <td>eanderson@example.net</td>\n",
       "      <td>4</td>\n",
       "      <td>2021-01-04</td>\n",
       "      <td>2021-01-05</td>\n",
       "      <td>Bike_4</td>\n",
       "      <td>148</td>\n",
       "      <td>4</td>\n",
       "      <td>Kiara Guerra</td>\n",
       "    </tr>\n",
       "    <tr>\n",
       "      <th>4</th>\n",
       "      <td>5</td>\n",
       "      <td>gary35@example.net</td>\n",
       "      <td>5</td>\n",
       "      <td>2021-01-05</td>\n",
       "      <td>2021-01-06</td>\n",
       "      <td>Bike_5</td>\n",
       "      <td>168</td>\n",
       "      <td>5</td>\n",
       "      <td>Eileen Cisneros</td>\n",
       "    </tr>\n",
       "  </tbody>\n",
       "</table>\n",
       "</div>"
      ],
      "text/plain": [
       "   id_x                      EmailId  VehicleId    FromDate      ToDate  \\\n",
       "0     1         wwallace@example.org          1  2021-01-01  2021-01-02   \n",
       "1     2  espinozaclinton@example.net          2  2021-01-02  2021-01-03   \n",
       "2     3         steven89@example.com          3  2021-01-03  2021-01-04   \n",
       "3     4        eanderson@example.net          4  2021-01-04  2021-01-05   \n",
       "4     5           gary35@example.net          5  2021-01-05  2021-01-06   \n",
       "\n",
       "  VehiclesTitle  PricePerDay  id_y         FullName  \n",
       "0        Bike_1          140     1   Leslie Morales  \n",
       "1        Bike_2          154     2   Angela Hancock  \n",
       "2        Bike_3           64     3     Brian Joseph  \n",
       "3        Bike_4          148     4     Kiara Guerra  \n",
       "4        Bike_5          168     5  Eileen Cisneros  "
      ]
     },
     "execution_count": 112,
     "metadata": {},
     "output_type": "execute_result"
    }
   ],
   "source": [
    "tblbooking.head()"
   ]
  },
  {
   "cell_type": "code",
   "execution_count": 113,
   "metadata": {},
   "outputs": [],
   "source": [
    "# Convert the 'FromDate' and 'ToDate' columns to datetime objects\n",
    "tblbooking['FromDate'] = pd.to_datetime(tblbooking['FromDate'])\n",
    "tblbooking['ToDate'] = pd.to_datetime(tblbooking['ToDate'])\n"
   ]
  },
  {
   "cell_type": "code",
   "execution_count": 114,
   "metadata": {},
   "outputs": [
    {
     "data": {
      "text/plain": [
       "Index(['id_x', 'EmailId', 'VehicleId', 'FromDate', 'ToDate', 'VehiclesTitle',\n",
       "       'PricePerDay', 'id_y', 'FullName'],\n",
       "      dtype='object')"
      ]
     },
     "execution_count": 114,
     "metadata": {},
     "output_type": "execute_result"
    }
   ],
   "source": [
    "tblbooking.columns"
   ]
  },
  {
   "cell_type": "code",
   "execution_count": 115,
   "metadata": {},
   "outputs": [],
   "source": [
    "\n",
    "\n",
    "# Calculate the number of days between 'FromDate' and 'ToDate'\n",
    "tblbooking['Days'] = (tblbooking['ToDate'] - tblbooking['FromDate']).dt.days\n",
    "\n",
    "# Calculate the revenue generated by each booking\n",
    "tblbooking['Revenue'] = tblbooking['Days'] * tblbooking['PricePerDay']\n",
    "\n",
    "\n"
   ]
  },
  {
   "cell_type": "code",
   "execution_count": 116,
   "metadata": {},
   "outputs": [
    {
     "data": {
      "text/plain": [
       "Index(['id_x', 'EmailId', 'VehicleId', 'FromDate', 'ToDate', 'VehiclesTitle',\n",
       "       'PricePerDay', 'id_y', 'FullName', 'Days', 'Revenue'],\n",
       "      dtype='object')"
      ]
     },
     "execution_count": 116,
     "metadata": {},
     "output_type": "execute_result"
    }
   ],
   "source": [
    "tblbooking.columns"
   ]
  },
  {
   "cell_type": "code",
   "execution_count": 117,
   "metadata": {},
   "outputs": [],
   "source": [
    "# Drop the 'FromDate' and 'ToDate' columns\n",
    "tblbooking = tblbooking.drop(columns=['FromDate', 'ToDate'])\n",
    "\n",
    "# Split the data into training and testing sets\n",
    "X = tblbooking.drop(columns=['id_x', 'Revenue'])\n",
    "y = tblbooking['Revenue']\n",
    "\n",
    "# Impute missing values in the 'PricePerDay' column\n",
    "imputer = SimpleImputer(strategy='mean')\n",
    "X['PricePerDay'] = imputer.fit_transform(X[['PricePerDay']])\n",
    "\n",
    "# Standardize the 'PricePerDay' column\n",
    "scaler = StandardScaler()\n",
    "X['PricePerDay'] = scaler.fit_transform(X[['PricePerDay']])\n"
   ]
  },
  {
   "cell_type": "code",
   "execution_count": 118,
   "metadata": {},
   "outputs": [],
   "source": [
    "# Save the preprocessed data to new CSV files\n",
    "X_train, X_test, y_train, y_test = train_test_split(X, y, test_size=0.2, random_state=42)\n",
    "X_train.to_csv('X_train.csv', index=False)\n",
    "X_test.to_csv('X_test.csv', index=False)\n",
    "y_train.to_csv('y_train.csv', index=False)\n",
    "y_test.to_csv('y_test.csv', index=False)"
   ]
  }
 ],
 "metadata": {
  "kernelspec": {
   "display_name": "base",
   "language": "python",
   "name": "python3"
  },
  "language_info": {
   "codemirror_mode": {
    "name": "ipython",
    "version": 3
   },
   "file_extension": ".py",
   "mimetype": "text/x-python",
   "name": "python",
   "nbconvert_exporter": "python",
   "pygments_lexer": "ipython3",
   "version": "3.11.5"
  }
 },
 "nbformat": 4,
 "nbformat_minor": 2
}
