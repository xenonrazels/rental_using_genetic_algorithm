{
 "cells": [
  {
   "cell_type": "code",
   "execution_count": 1,
   "metadata": {},
   "outputs": [
    {
     "name": "stderr",
     "output_type": "stream",
     "text": [
      "c:\\Users\\Ripple\\AppData\\Local\\anaconda3\\Lib\\site-packages\\pandas\\core\\arrays\\masked.py:60: UserWarning: Pandas requires version '1.3.6' or newer of 'bottleneck' (version '1.3.5' currently installed).\n",
      "  from pandas.core import (\n"
     ]
    }
   ],
   "source": [
    "import pandas as pd\n",
    "import numpy as np\n",
    "from sklearn.model_selection import train_test_split\n",
    "from sklearn.preprocessing import StandardScaler\n",
    "from sklearn.impute import SimpleImputer\n",
    "import matplotlib.pyplot as plt\n",
    "\n",
    "# Load the data from the CSV files\n",
    "\n",
    "X_train = pd.read_csv(\"X_train.csv\")\n",
    "y_train = pd.read_csv(\"y_train.csv\", header=None)"
   ]
  },
  {
   "cell_type": "code",
   "execution_count": 2,
   "metadata": {},
   "outputs": [
    {
     "data": {
      "text/html": [
       "<div>\n",
       "<style scoped>\n",
       "    .dataframe tbody tr th:only-of-type {\n",
       "        vertical-align: middle;\n",
       "    }\n",
       "\n",
       "    .dataframe tbody tr th {\n",
       "        vertical-align: top;\n",
       "    }\n",
       "\n",
       "    .dataframe thead th {\n",
       "        text-align: right;\n",
       "    }\n",
       "</style>\n",
       "<table border=\"1\" class=\"dataframe\">\n",
       "  <thead>\n",
       "    <tr style=\"text-align: right;\">\n",
       "      <th></th>\n",
       "      <th>EmailId</th>\n",
       "      <th>VehicleId</th>\n",
       "      <th>VehiclesTitle</th>\n",
       "      <th>PricePerDay</th>\n",
       "      <th>id_y</th>\n",
       "      <th>FullName</th>\n",
       "      <th>Days</th>\n",
       "    </tr>\n",
       "  </thead>\n",
       "  <tbody>\n",
       "    <tr>\n",
       "      <th>0</th>\n",
       "      <td>mfuller@example.org</td>\n",
       "      <td>34</td>\n",
       "      <td>Bike_56</td>\n",
       "      <td>-0.325373</td>\n",
       "      <td>53</td>\n",
       "      <td>Austin Taylor</td>\n",
       "      <td>1</td>\n",
       "    </tr>\n",
       "    <tr>\n",
       "      <th>1</th>\n",
       "      <td>ycarpenter@example.org</td>\n",
       "      <td>32</td>\n",
       "      <td>Bike_89</td>\n",
       "      <td>0.770898</td>\n",
       "      <td>6</td>\n",
       "      <td>Rhonda Miller</td>\n",
       "      <td>1</td>\n",
       "    </tr>\n",
       "    <tr>\n",
       "      <th>2</th>\n",
       "      <td>sfry@example.org</td>\n",
       "      <td>3</td>\n",
       "      <td>Bike_27</td>\n",
       "      <td>-0.741956</td>\n",
       "      <td>26</td>\n",
       "      <td>Dwayne Hancock</td>\n",
       "      <td>1</td>\n",
       "    </tr>\n",
       "    <tr>\n",
       "      <th>3</th>\n",
       "      <td>timchase@example.net</td>\n",
       "      <td>30</td>\n",
       "      <td>Bike_43</td>\n",
       "      <td>-0.676180</td>\n",
       "      <td>41</td>\n",
       "      <td>Rachel Rivas</td>\n",
       "      <td>1</td>\n",
       "    </tr>\n",
       "    <tr>\n",
       "      <th>4</th>\n",
       "      <td>ygallegos@example.org</td>\n",
       "      <td>5</td>\n",
       "      <td>Bike_70</td>\n",
       "      <td>-1.597048</td>\n",
       "      <td>67</td>\n",
       "      <td>Michelle Miller</td>\n",
       "      <td>1</td>\n",
       "    </tr>\n",
       "  </tbody>\n",
       "</table>\n",
       "</div>"
      ],
      "text/plain": [
       "                  EmailId  VehicleId VehiclesTitle  PricePerDay  id_y  \\\n",
       "0     mfuller@example.org         34       Bike_56    -0.325373    53   \n",
       "1  ycarpenter@example.org         32       Bike_89     0.770898     6   \n",
       "2        sfry@example.org          3       Bike_27    -0.741956    26   \n",
       "3    timchase@example.net         30       Bike_43    -0.676180    41   \n",
       "4   ygallegos@example.org          5       Bike_70    -1.597048    67   \n",
       "\n",
       "          FullName  Days  \n",
       "0    Austin Taylor     1  \n",
       "1    Rhonda Miller     1  \n",
       "2   Dwayne Hancock     1  \n",
       "3     Rachel Rivas     1  \n",
       "4  Michelle Miller     1  "
      ]
     },
     "execution_count": 2,
     "metadata": {},
     "output_type": "execute_result"
    }
   ],
   "source": [
    "X_train.head()"
   ]
  },
  {
   "cell_type": "code",
   "execution_count": 4,
   "metadata": {},
   "outputs": [
    {
     "name": "stdout",
     "output_type": "stream",
     "text": [
      "  Revenue\n",
      "0    None\n",
      "1     108\n",
      "2     158\n",
      "3      89\n",
      "4      92\n"
     ]
    }
   ],
   "source": [
    "y_train.rename(columns={y_train.columns[0]: \"Revenue\"}, inplace=True)\n",
    "\n",
    "\n",
    "# Remove the \"Revenue\" value from the first row\n",
    "y_train.iloc[0, 0] = None\n",
    "\n",
    "# Print the updated DataFrame\n",
    "print(y_train.head())"
   ]
  },
  {
   "cell_type": "code",
   "execution_count": null,
   "metadata": {},
   "outputs": [],
   "source": [
    "y.rename(columns={y.columns[0]: \"Revenue\"}, inplace=True)\n",
    "\n",
    "\n",
    "# Remove the \"Revenue\" value from the first row\n",
    "y.iloc[0, 0] = None\n",
    "\n",
    "# Print the updated DataFrame\n",
    "print(y_train.head())"
   ]
  },
  {
   "cell_type": "code",
   "execution_count": 6,
   "metadata": {},
   "outputs": [
    {
     "name": "stdout",
     "output_type": "stream",
     "text": [
      "  Revenue\n",
      "0     108\n",
      "1     158\n",
      "2      89\n",
      "3      92\n",
      "4      50\n"
     ]
    }
   ],
   "source": [
    "# Remove the first row containing None value\n",
    "y_train = y_train.dropna()\n",
    "y_test=\n",
    "\n",
    "# Reset index if necessary\n",
    "y_train.reset_index(drop=True, inplace=True)\n",
    "\n",
    "# Print the updated DataFrame\n",
    "print(y_train.head())\n"
   ]
  },
  {
   "cell_type": "code",
   "execution_count": 7,
   "metadata": {},
   "outputs": [
    {
     "data": {
      "text/plain": [
       "(80, 1)"
      ]
     },
     "execution_count": 7,
     "metadata": {},
     "output_type": "execute_result"
    }
   ],
   "source": [
    "y_train.shape"
   ]
  },
  {
   "cell_type": "code",
   "execution_count": 100,
   "metadata": {},
   "outputs": [
    {
     "name": "stdout",
     "output_type": "stream",
     "text": [
      "<class 'pandas.core.frame.DataFrame'>\n",
      "RangeIndex: 80 entries, 0 to 79\n",
      "Data columns (total 7 columns):\n",
      " #   Column         Non-Null Count  Dtype  \n",
      "---  ------         --------------  -----  \n",
      " 0   EmailId        80 non-null     int32  \n",
      " 1   VehicleId      80 non-null     float64\n",
      " 2   VehiclesTitle  80 non-null     int32  \n",
      " 3   PricePerDay    80 non-null     float64\n",
      " 4   id_y           80 non-null     float64\n",
      " 5   FullName       80 non-null     int32  \n",
      " 6   Days           80 non-null     float64\n",
      "dtypes: float64(4), int32(3)\n",
      "memory usage: 3.6 KB\n"
     ]
    }
   ],
   "source": [
    "X_train.info()"
   ]
  },
  {
   "cell_type": "code",
   "execution_count": 102,
   "metadata": {},
   "outputs": [
    {
     "name": "stdout",
     "output_type": "stream",
     "text": [
      "<class 'pandas.core.frame.DataFrame'>\n",
      "RangeIndex: 80 entries, 0 to 79\n",
      "Data columns (total 1 columns):\n",
      " #   Column   Non-Null Count  Dtype \n",
      "---  ------   --------------  ----- \n",
      " 0   Revenue  80 non-null     object\n",
      "dtypes: object(1)\n",
      "memory usage: 772.0+ bytes\n"
     ]
    }
   ],
   "source": [
    "y_train.info()"
   ]
  },
  {
   "cell_type": "code",
   "execution_count": null,
   "metadata": {},
   "outputs": [],
   "source": [
    "# Distribution of categorical variables\n",
    "categorical_cols = ['EmailId', 'VehicleId', 'VehiclesTitle']\n",
    "for col in categorical_cols:\n",
    "    print(\"\\n\", col, \"Distribution:\")\n",
    "    print(X_train[col].value_counts())"
   ]
  },
  {
   "cell_type": "code",
   "execution_count": null,
   "metadata": {},
   "outputs": [],
   "source": [
    "# Distribution of numerical variables\n",
    "\n",
    "\n",
    "print(\"\\n\", col, \"Distribution:\")\n",
    "  # Convert to datetime for plotting\n",
    "plt.hist(X_train['Days'], bins=20)\n",
    "plt.xlabel()\n",
    "plt.ylabel(\"Frequency\")\n",
    "plt.show()"
   ]
  },
  {
   "cell_type": "code",
   "execution_count": null,
   "metadata": {},
   "outputs": [],
   "source": []
  },
  {
   "cell_type": "code",
   "execution_count": null,
   "metadata": {},
   "outputs": [],
   "source": [
    "# Import necessary libraries\n",
    "import numpy as np\n",
    "from fcga import FCGA\n",
    "\n",
    "\n",
    "\n",
    "# Step 3: Train the FCGA model\n",
    "# Assuming FCGA is already implemented, instantiate the model and train it\n",
    "fcga_model = FCGA()\n",
    "fcga_model.fit(X_train, y_train)\n",
    "\n",
    "# Step 4: Generate recommendations\n",
    "# Assuming you have a function to generate recommendations based on the trained model\n",
    "def generate_recommendations(user_data):\n",
    "    recommendations = fcga_model.predict(user_data)\n",
    "    return recommendations\n",
    "\n",
    "# Example usage:\n",
    "# User provides their data in the same format as X_train\n",
    "user_data = pd.DataFrame({\n",
    "    'EmailId': ['user@example.com'],\n",
    "    'VehicleId': [123],\n",
    "    'VehiclesTitle': ['Bike'],\n",
    "    'PricePerDay': [20],\n",
    "    'id_y': [456],\n",
    "    'FullName': ['John Doe'],\n",
    "    'Days': [3]\n",
    "})\n",
    "\n",
    "# Generate recommendations for the user\n",
    "user_recommendations = generate_recommendations(user_data)\n",
    "\n",
    "print(\"Recommended vehicles:\", user_recommendations)\n"
   ]
  },
  {
   "cell_type": "code",
   "execution_count": 8,
   "metadata": {},
   "outputs": [],
   "source": [
    "import numpy as np\n",
    "import pandas as pd\n",
    "from sklearn.preprocessing import LabelEncoder, MinMaxScaler\n",
    "from skfuzzy import cmeans\n",
    "import matplotlib.pyplot as plt\n",
    "from deap import base, creator, tools, algorithms\n",
    "\n",
    "\n",
    "# # Encode categorical features\n",
    "# categorical_cols = ['EmailId', 'VehiclesTitle', 'FullName']\n",
    "# le = LabelEncoder()\n",
    "# for col in categorical_cols:\n",
    "#     X_train[col] = le.fit_transform(X_train[col])\n",
    "\n",
    "\n",
    "\n",
    "\n",
    "\n",
    "\n",
    "\n",
    "\n"
   ]
  },
  {
   "cell_type": "code",
   "execution_count": 9,
   "metadata": {},
   "outputs": [],
   "source": [
    "# Encode categorical features\n",
    "categorical_cols = ['EmailId', 'VehiclesTitle', 'FullName']\n",
    "le = LabelEncoder()\n",
    "for col in categorical_cols:\n",
    "    X_train[col] = le.fit_transform(X_train[col])"
   ]
  },
  {
   "cell_type": "code",
   "execution_count": 10,
   "metadata": {},
   "outputs": [],
   "source": [
    "# Normalize numerical features\n",
    "numerical_cols = ['VehicleId', 'PricePerDay', 'id_y', 'Days']\n",
    "scaler = MinMaxScaler()\n",
    "X_train[numerical_cols] = scaler.fit_transform(X_train[numerical_cols])\n"
   ]
  },
  {
   "cell_type": "code",
   "execution_count": 11,
   "metadata": {},
   "outputs": [],
   "source": [
    "# Split the data into features and target\n",
    "X = X_train\n",
    "y = y_train\n"
   ]
  },
  {
   "cell_type": "code",
   "execution_count": 12,
   "metadata": {},
   "outputs": [],
   "source": [
    "# Fuzzy C-means Clustering\n",
    "cntr, u, _, _, _, _, _ = cmeans(X.values, c=3, m=2, error=0.005, maxiter=1000, init=None)\n",
    "\n",
    "# # Visualize clusters\n",
    "# plt.figure(figsize=(8, 6))\n",
    "# plt.scatter(X.values[:, 0], X.values[:, 1], c=u, cmap='viridis', edgecolor='k')\n",
    "# plt.title('Fuzzy C-means Clustering')\n",
    "# plt.xlabel('Feature 1')\n",
    "# plt.ylabel('Feature 2')\n",
    "# plt.show()"
   ]
  },
  {
   "cell_type": "code",
   "execution_count": 13,
   "metadata": {},
   "outputs": [
    {
     "data": {
      "image/png": "[encoded data removed]",
      "text/plain": [
       "<Figure size 800x600 with 1 Axes>"
      ]
     },
     "metadata": {},
     "output_type": "display_data"
    }
   ],
   "source": [
    "# Visualize clusters with a single color\n",
    "plt.figure(figsize=(8, 6))\n",
    "plt.scatter(X.values[:, 0], X.values[:, 1], c='blue', edgecolor='k')  # Specify a single color\n",
    "plt.title('Fuzzy C-means Clustering')\n",
    "plt.xlabel('Feature 1')\n",
    "plt.ylabel('Feature 2')\n",
    "plt.show()\n"
   ]
  },
  {
   "cell_type": "code",
   "execution_count": null,
   "metadata": {},
   "outputs": [],
   "source": [
    "# # Feature selection\n",
    "# from sklearn.feature_selection import mutual_info_classif\n",
    "# selected_features = X.columns[mutual_info_classif(X, y) > 0.1]\n",
    "\n",
    "# # Genetic Algorithm\n",
    "# creator.create(\"FitnessMax\", base.Fitness, weights=(1.0,))\n",
    "# creator.create(\"Individual\", list, fitness=creator.FitnessMax)\n",
    "\n",
    "# toolbox = base.Toolbox()\n",
    "# toolbox.register(\"attr_bool\", np.random.randint, 0, 2)\n",
    "# toolbox.register(\"individual\", tools.initRepeat, creator.Individual, toolbox.attr_bool, n=len(selected_features))\n",
    "# toolbox.register(\"population\", tools.initRepeat, list, toolbox.individual)"
   ]
  },
  {
   "cell_type": "code",
   "execution_count": 14,
   "metadata": {},
   "outputs": [
    {
     "name": "stderr",
     "output_type": "stream",
     "text": [
      "c:\\Users\\Ripple\\AppData\\Local\\anaconda3\\Lib\\site-packages\\sklearn\\utils\\validation.py:1183: DataConversionWarning: A column-vector y was passed when a 1d array was expected. Please change the shape of y to (n_samples, ), for example using ravel().\n",
      "  y = column_or_1d(y, warn=True)\n"
     ]
    }
   ],
   "source": [
    "# Feature selection\n",
    "from sklearn.feature_selection import mutual_info_regression\n",
    "\n",
    "selected_features = X.columns[mutual_info_regression(X, y) > 0.1]\n",
    "\n",
    "# Genetic Algorithm\n",
    "creator.create(\"FitnessMax\", base.Fitness, weights=(1.0,))\n",
    "creator.create(\"Individual\", list, fitness=creator.FitnessMax)\n",
    "\n",
    "toolbox = base.Toolbox()\n",
    "toolbox.register(\"attr_bool\", np.random.randint, 0, 2)\n",
    "toolbox.register(\"individual\", tools.initRepeat, creator.Individual, toolbox.attr_bool, n=len(selected_features))\n",
    "toolbox.register(\"population\", tools.initRepeat, list, toolbox.individual)\n"
   ]
  },
  {
   "cell_type": "code",
   "execution_count": 15,
   "metadata": {},
   "outputs": [],
   "source": [
    "\n",
    "# def evaluate(individual):\n",
    "#     # Calculate the average revenue for the selected features\n",
    "#     selected_data = X[selected_features.iloc[individual]]\n",
    "#     avg_revenue = y[selected_data].mean()\n",
    "#     return avg_revenue,"
   ]
  },
  {
   "cell_type": "code",
   "execution_count": 30,
   "metadata": {},
   "outputs": [],
   "source": [
    "def evaluate(individual):\n",
    "    # Convert the individual list to a boolean mask\n",
    "    mask = np.array(individual).astype(bool)\n",
    "    # Select the features based on the mask\n",
    "    selected_data = X[selected_features[mask]]\n",
    "    # Calculate the average revenue for the selected features\n",
    "    avg_revenue = y[selected_data].mean()\n",
    "    return avg_revenue.values[0],\n",
    "\n",
    "# Register the evaluation function\n",
    "toolbox.register(\"evaluate\", evaluate)"
   ]
  },
  {
   "cell_type": "code",
   "execution_count": 31,
   "metadata": {},
   "outputs": [],
   "source": [
    "# toolbox.register(\"evaluate\", evaluate)\n",
    "toolbox.register(\"mate\", tools.cxTwoPoint)\n",
    "toolbox.register(\"mutate\", tools.mutFlipBit, indpb=0.05)\n",
    "toolbox.register(\"select\", tools.selTournament, tournsize=3)\n",
    "\n",
    "population = toolbox.population(n=50)\n",
    "fits = toolbox.map(toolbox.evaluate, population)\n",
    "for ind, fit in zip(population, fits):\n",
    "    ind.fitness.values = fit"
   ]
  },
  {
   "cell_type": "code",
   "execution_count": 34,
   "metadata": {},
   "outputs": [],
   "source": [
    "from deap.tools import cxTwoPoint\n",
    "\n",
    "def cxTwoPoint_custom(ind1, ind2):\n",
    "    size = min(len(ind1), len(ind2))\n",
    "    if size <= 1:\n",
    "        # If the length is 0 or 1, return the individuals as-is\n",
    "        return ind1, ind2\n",
    "    else:\n",
    "        # Use the original cxTwoPoint function for larger individuals\n",
    "        return cxTwoPoint(ind1, ind2)\n",
    "\n",
    "# Register the custom crossover function\n",
    "toolbox.register(\"mate\", cxTwoPoint_custom)"
   ]
  },
  {
   "cell_type": "code",
   "execution_count": 38,
   "metadata": {},
   "outputs": [],
   "source": [
    "from operator import attrgetter\n",
    "\n",
    "# Register the selection function\n",
    "toolbox.register(\"select\", tools.selTournament, tournsize=3)\n",
    "\n",
    "# Run the Genetic Algorithm\n",
    "ngen = 20\n",
    "final_pop = algorithms.eaSimple(population, toolbox, cxpb=0.5, mutpb=0.2, ngen=ngen, verbose=False)\n",
    "\n",
    "# Now use the .all() function to check if the fitness attribute is True for all elements\n",
    "chosen = toolbox.select(population, len(population))\n"
   ]
  },
  {
   "cell_type": "code",
   "execution_count": 36,
   "metadata": {},
   "outputs": [],
   "source": [
    "\n",
    "\n",
    "# Run the Genetic Algorithm\n",
    "ngen = 50\n",
    "final_pop = algorithms.eaSimple(population, toolbox, cxpb=0.5, mutpb=0.2, ngen=ngen, verbose=False)"
   ]
  },
  {
   "cell_type": "code",
   "execution_count": 97,
   "metadata": {},
   "outputs": [],
   "source": [
    "from sklearn.preprocessing import LabelEncoder\n",
    "# Recommendation\n",
    "def recommend_for_new_request(X, y, u ,new_request):\n",
    "   # Preprocess new_request\n",
    "    new_request_2d = new_request.reshape(1, -1)  # Reshape to make it 2D\n",
    "\n",
    "    # Encode the categorical variable\n",
    "    label_encoder = LabelEncoder()\n",
    "    categorical_col_idx = 1  # Assuming the categorical variable is in the second column\n",
    "    new_request_2d[:, categorical_col_idx] = label_encoder.fit_transform(new_request_2d[:, categorical_col_idx])\n",
    "\n",
    "    # Convert new_request to float for distance calculation\n",
    "    new_request_values = new_request_2d.astype(float)\n",
    "\n",
    "    # Find the closest cluster\n",
    "    distances = np.linalg.norm(new_request_values - cntr[:, :new_request_values.shape[1]], axis=1)\n",
    "    closest_cluster = np.argmin(distances)\n",
    "        # Ensure consistent data size (assuming X_test and y_test have the same number of rows)\n",
    "    if X.shape[0] != y.shape[0] or X.shape[0] != u.shape[0]:\n",
    "        raise ValueError(\"Dataframes X, y, and u must have the same number of rows\")\n",
    "\n",
    "    # Filter data based on cluster membership (using boolean indexing)\n",
    "    cluster_mask = u.T[:, closest_cluster] == u.T.max(axis=1)  # Find rows belonging to closest cluster\n",
    "    cluster_data = X[cluster_mask]  # Select data points based on the mask\n",
    "    cluster_target = y[cluster_mask]  # Select target values based on the mask\n",
    "    \n",
    "\n",
    "\n",
    "    # Create a new toolbox for the cluster\n",
    "    cluster_toolbox = base.Toolbox()\n",
    "    cluster_toolbox.register(\"attr_bool\", np.random.randint, 0, 2)\n",
    "    cluster_toolbox.register(\"individual\", tools.initRepeat, creator.Individual, cluster_toolbox.attr_bool, n=len(cluster_data.columns))\n",
    "    cluster_toolbox.register(\"population\", tools.initRepeat, list, cluster_toolbox.individual)\n",
    "\n",
    "    def cluster_evaluate(individual):\n",
    "        # Calculate the average revenue for the selected features\n",
    "        selected_data = cluster_data[:, individual]\n",
    "        avg_revenue = cluster_target[:, selected_data.columns].mean()\n",
    "        return avg_revenue,\n",
    "\n",
    "    cluster_toolbox.register(\"evaluate\", cluster_evaluate)\n",
    "    cluster_toolbox.register(\"mate\", tools.cxTwoPoint)\n",
    "    cluster_toolbox.register(\"mutate\", tools.mutFlipBit, indpb=0.05)\n",
    "    cluster_toolbox.register(\"select\", tools.selTournament, tournsize=3)\n",
    "\n",
    "    # Run the Genetic Algorithm for the cluster\n",
    "    cluster_population = cluster_toolbox.population(n=20)\n",
    "    cluster_fits = cluster_toolbox.map(cluster_toolbox.evaluate, cluster_population)\n",
    "    for ind, fit in zip(cluster_population, cluster_fits):\n",
    "        ind.fitness.values = fit\n",
    "\n",
    "    cluster_final_pop = algorithms.eaSimple(cluster_population, cluster_toolbox, cxpb=0.5, mutpb=0.2, ngen=20, verbose=False)\n",
    "\n",
    "    # Recommend the best bikes/scooters or customers based on the cluster's genetic algorithm results\n",
    "    best_individual = tools.selBest(cluster_final_pop, k=1)[0]\n",
    "    recommended_features = cluster_data.columns[best_individual]\n",
    "    recommended_data = cluster_data[:, recommended_features]\n",
    "    print(f\"Recommended for {_}:\")\n",
    "    print(recommended_data)\n"
   ]
  },
  {
   "cell_type": "code",
   "execution_count": 99,
   "metadata": {},
   "outputs": [
    {
     "ename": "ImportError",
     "evalue": "cannot import name 'FuzzyCMeans' from 'sklearn.cluster' (c:\\Users\\Ripple\\AppData\\Local\\anaconda3\\Lib\\site-packages\\sklearn\\cluster\\__init__.py)",
     "output_type": "error",
     "traceback": [
      "\u001b[1;31m---------------------------------------------------------------------------\u001b[0m",
      "\u001b[1;31mImportError\u001b[0m                               Traceback (most recent call last)",
      "Cell \u001b[1;32mIn[99], line 2\u001b[0m\n\u001b[0;32m      1\u001b[0m \u001b[38;5;28;01mimport\u001b[39;00m \u001b[38;5;21;01mnumpy\u001b[39;00m \u001b[38;5;28;01mas\u001b[39;00m \u001b[38;5;21;01mnp\u001b[39;00m\n\u001b[1;32m----> 2\u001b[0m \u001b[38;5;28;01mfrom\u001b[39;00m \u001b[38;5;21;01msklearn\u001b[39;00m\u001b[38;5;21;01m.\u001b[39;00m\u001b[38;5;21;01mcluster\u001b[39;00m \u001b[38;5;28;01mimport\u001b[39;00m FuzzyCMeans\n\u001b[0;32m      4\u001b[0m \u001b[38;5;28;01mdef\u001b[39;00m \u001b[38;5;21mcalculate_cluster_membership\u001b[39m(data, num_clusters, m):\n\u001b[0;32m      5\u001b[0m \u001b[38;5;250m  \u001b[39m\u001b[38;5;124;03m\"\"\"\u001b[39;00m\n\u001b[0;32m      6\u001b[0m \u001b[38;5;124;03m  Calculates cluster membership probabilities using Fuzzy C-Means clustering.\u001b[39;00m\n\u001b[0;32m      7\u001b[0m \n\u001b[1;32m   (...)\u001b[0m\n\u001b[0;32m     14\u001b[0m \u001b[38;5;124;03m      A NumPy array (samples x clusters) representing the cluster membership probabilities (u-matrix).\u001b[39;00m\n\u001b[0;32m     15\u001b[0m \u001b[38;5;124;03m  \"\"\"\u001b[39;00m\n",
      "\u001b[1;31mImportError\u001b[0m: cannot import name 'FuzzyCMeans' from 'sklearn.cluster' (c:\\Users\\Ripple\\AppData\\Local\\anaconda3\\Lib\\site-packages\\sklearn\\cluster\\__init__.py)"
     ]
    }
   ],
   "source": [
    "import numpy as np\n",
    "from sklearn.cluster import FuzzyCMeans\n",
    "\n",
    "def calculate_cluster_membership(data, num_clusters, m):\n",
    "  \"\"\"\n",
    "  Calculates cluster membership probabilities using Fuzzy C-Means clustering.\n",
    "\n",
    "  Args:\n",
    "      data: A NumPy array representing the data points (samples x features).\n",
    "      num_clusters: The desired number of clusters.\n",
    "      m: The fuzziness parameter (typically between 1.5 and 3).\n",
    "\n",
    "  Returns:\n",
    "      A NumPy array (samples x clusters) representing the cluster membership probabilities (u-matrix).\n",
    "  \"\"\"\n",
    "\n",
    "  # Create the FCM model\n",
    "  fcm = FuzzyCMeans(n_clusters=num_clusters, m=m)\n",
    "\n",
    "  # Fit the model to the data\n",
    "  fcm.fit(data)\n",
    "\n",
    "  # Get the cluster membership probabilities (u-matrix)\n",
    "  u = fcm.u_\n",
    "\n",
    "  return u\n",
    "\n",
    "# Example usage\n",
    "data = np.array([  # Sample data (replace with your actual data)\n",
    "    [10, 3],\n",
    "    [12, 5],\n",
    "    [8, 2],\n",
    "    [14, 7],\n",
    "    [9, 1],\n",
    "    [11, 4],\n",
    "    [7, 2],\n",
    "    [15, 8],\n",
    "    [10, 3.5],\n",
    "    [13, 6]\n",
    "])\n",
    "\n",
    "num_clusters = 3  # Number of desired clusters\n",
    "m = 2  # Fuzziness parameter\n",
    "\n",
    "# Calculate cluster membership probabilities\n",
    "u = calculate_cluster_membership(data, num_clusters, m)\n",
    "\n",
    "print(\"Cluster membership probabilities (u-matrix):\")\n",
    "print(u)\n"
   ]
  },
  {
   "cell_type": "code",
   "execution_count": 98,
   "metadata": {},
   "outputs": [
    {
     "ename": "IndexError",
     "evalue": "boolean index did not match indexed array along dimension 0; dimension is 10 but corresponding boolean dimension is 2",
     "output_type": "error",
     "traceback": [
      "\u001b[1;31m---------------------------------------------------------------------------\u001b[0m",
      "\u001b[1;31mIndexError\u001b[0m                                Traceback (most recent call last)",
      "Cell \u001b[1;32mIn[98], line 38\u001b[0m\n\u001b[0;32m     35\u001b[0m new_request \u001b[38;5;241m=\u001b[39m np\u001b[38;5;241m.\u001b[39marray([\u001b[38;5;241m12\u001b[39m, \u001b[38;5;124m\"\u001b[39m\u001b[38;5;124mCity Bike\u001b[39m\u001b[38;5;124m\"\u001b[39m, \u001b[38;5;241m1100\u001b[39m])\n\u001b[0;32m     37\u001b[0m \u001b[38;5;66;03m# Call the recommend_for_new_request function\u001b[39;00m\n\u001b[1;32m---> 38\u001b[0m \u001b[43mrecommend_for_new_request\u001b[49m\u001b[43m(\u001b[49m\u001b[43mX\u001b[49m\u001b[43m,\u001b[49m\u001b[43m \u001b[49m\u001b[43my\u001b[49m\u001b[43m,\u001b[49m\u001b[43m \u001b[49m\u001b[43mu\u001b[49m\u001b[43m,\u001b[49m\u001b[43m \u001b[49m\u001b[43mnew_request\u001b[49m\u001b[43m)\u001b[49m\n",
      "Cell \u001b[1;32mIn[97], line 24\u001b[0m, in \u001b[0;36mrecommend_for_new_request\u001b[1;34m(X, y, u, new_request)\u001b[0m\n\u001b[0;32m     22\u001b[0m \u001b[38;5;66;03m# Filter data based on cluster membership (using boolean indexing)\u001b[39;00m\n\u001b[0;32m     23\u001b[0m cluster_mask \u001b[38;5;241m=\u001b[39m u\u001b[38;5;241m.\u001b[39mT[:, closest_cluster] \u001b[38;5;241m==\u001b[39m u\u001b[38;5;241m.\u001b[39mT\u001b[38;5;241m.\u001b[39mmax(axis\u001b[38;5;241m=\u001b[39m\u001b[38;5;241m1\u001b[39m)  \u001b[38;5;66;03m# Find rows belonging to closest cluster\u001b[39;00m\n\u001b[1;32m---> 24\u001b[0m cluster_data \u001b[38;5;241m=\u001b[39m \u001b[43mX\u001b[49m\u001b[43m[\u001b[49m\u001b[43mcluster_mask\u001b[49m\u001b[43m]\u001b[49m  \u001b[38;5;66;03m# Select data points based on the mask\u001b[39;00m\n\u001b[0;32m     25\u001b[0m cluster_target \u001b[38;5;241m=\u001b[39m y[cluster_mask]  \u001b[38;5;66;03m# Select target values based on the mask\u001b[39;00m\n\u001b[0;32m     29\u001b[0m \u001b[38;5;66;03m# Create a new toolbox for the cluster\u001b[39;00m\n",
      "\u001b[1;31mIndexError\u001b[0m: boolean index did not match indexed array along dimension 0; dimension is 10 but corresponding boolean dimension is 2"
     ]
    }
   ],
   "source": [
    "import numpy as np\n",
    "from sklearn.preprocessing import LabelEncoder\n",
    "\n",
    "# Dummy data (replace with your actual data)\n",
    "X = np.array([\n",
    "    [10, \"Scooter\", 1500],\n",
    "    [12, \"Mountain Bike\", 2000],\n",
    "    [8, \"Scooter\", 1200],\n",
    "    [14, \"Road Bike\", 2500],\n",
    "    [9, \"City Bike\", 1000],\n",
    "    [11, \"Scooter\", 1800],\n",
    "    [7, \"City Bike\", 800],\n",
    "    [15, \"Road Bike\", 3000],\n",
    "    [10, \"Scooter\", 1400],\n",
    "    [13, \"Mountain Bike\", 2200]\n",
    "], dtype=object)\n",
    "\n",
    "y = np.array([100, 150, 80, 180, 60, 120, 50, 200, 90, 160])  # Target values (e.g., revenue)\n",
    "\n",
    "# Assuming u (cluster membership matrix) is already generated (replace with actual values)\n",
    "u = np.array([\n",
    "    [0.7, 0.3],\n",
    "    [0.2, 0.8],\n",
    "    [0.8, 0.2],\n",
    "    [0.1, 0.9],\n",
    "    [0.9, 0.1],\n",
    "    [0.6, 0.4],\n",
    "    [0.4, 0.6],\n",
    "    [0.05, 0.95],\n",
    "    [0.75, 0.25],\n",
    "    [0.3, 0.7]\n",
    "])\n",
    "\n",
    "# New request (replace with actual values)\n",
    "new_request = np.array([12, \"City Bike\", 1100])\n",
    "\n",
    "# Call the recommend_for_new_request function\n",
    "recommend_for_new_request(X, y, u, new_request)\n"
   ]
  },
  {
   "cell_type": "code",
   "execution_count": 91,
   "metadata": {},
   "outputs": [],
   "source": [
    "\n",
    "\n",
    "# Load data from CSV files\n",
    "X_test = pd.read_csv(\"X_test.csv\")\n",
    "y_test = pd.read_csv(\"y_test.csv\")\n",
    "\n",
    "# Assuming u is already a NumPy array from your previous steps\n",
    "new_request = np.array([12, \"Scooter\", 7.0])\n",
    "\n",
    "\n"
   ]
  },
  {
   "cell_type": "code",
   "execution_count": 92,
   "metadata": {},
   "outputs": [
    {
     "ename": "ValueError",
     "evalue": "Dataframes X, y, and u must have the same number of rows",
     "output_type": "error",
     "traceback": [
      "\u001b[1;31m---------------------------------------------------------------------------\u001b[0m",
      "\u001b[1;31mValueError\u001b[0m                                Traceback (most recent call last)",
      "Cell \u001b[1;32mIn[92], line 12\u001b[0m\n\u001b[0;32m      9\u001b[0m new_request_2d[:, \u001b[38;5;241m1\u001b[39m] \u001b[38;5;241m=\u001b[39m new_request_encoded\n\u001b[0;32m     11\u001b[0m \u001b[38;5;66;03m# Call the function with the encoded new request\u001b[39;00m\n\u001b[1;32m---> 12\u001b[0m \u001b[43mrecommend_for_new_request\u001b[49m\u001b[43m(\u001b[49m\u001b[43mX\u001b[49m\u001b[38;5;241;43m=\u001b[39;49m\u001b[43mX_test\u001b[49m\u001b[43m,\u001b[49m\u001b[43m \u001b[49m\u001b[43my\u001b[49m\u001b[38;5;241;43m=\u001b[39;49m\u001b[43my_test\u001b[49m\u001b[43m,\u001b[49m\u001b[43m \u001b[49m\u001b[43mu\u001b[49m\u001b[38;5;241;43m=\u001b[39;49m\u001b[43mu\u001b[49m\u001b[43m,\u001b[49m\u001b[43m \u001b[49m\u001b[43mnew_request\u001b[49m\u001b[38;5;241;43m=\u001b[39;49m\u001b[43mnew_request\u001b[49m\u001b[43m)\u001b[49m\n",
      "Cell \u001b[1;32mIn[90], line 20\u001b[0m, in \u001b[0;36mrecommend_for_new_request\u001b[1;34m(X, y, u, new_request)\u001b[0m\n\u001b[0;32m     18\u001b[0m     \u001b[38;5;66;03m# Ensure consistent data size (assuming X_test and y_test have the same number of rows)\u001b[39;00m\n\u001b[0;32m     19\u001b[0m \u001b[38;5;28;01mif\u001b[39;00m X\u001b[38;5;241m.\u001b[39mshape[\u001b[38;5;241m0\u001b[39m] \u001b[38;5;241m!=\u001b[39m y\u001b[38;5;241m.\u001b[39mshape[\u001b[38;5;241m0\u001b[39m] \u001b[38;5;129;01mor\u001b[39;00m X\u001b[38;5;241m.\u001b[39mshape[\u001b[38;5;241m0\u001b[39m] \u001b[38;5;241m!=\u001b[39m u\u001b[38;5;241m.\u001b[39mshape[\u001b[38;5;241m0\u001b[39m]:\n\u001b[1;32m---> 20\u001b[0m     \u001b[38;5;28;01mraise\u001b[39;00m \u001b[38;5;167;01mValueError\u001b[39;00m(\u001b[38;5;124m\"\u001b[39m\u001b[38;5;124mDataframes X, y, and u must have the same number of rows\u001b[39m\u001b[38;5;124m\"\u001b[39m)\n\u001b[0;32m     22\u001b[0m \u001b[38;5;66;03m# Filter data based on cluster membership (using boolean indexing)\u001b[39;00m\n\u001b[0;32m     23\u001b[0m cluster_mask \u001b[38;5;241m=\u001b[39m u\u001b[38;5;241m.\u001b[39mT[:, closest_cluster] \u001b[38;5;241m==\u001b[39m u\u001b[38;5;241m.\u001b[39mT\u001b[38;5;241m.\u001b[39mmax(axis\u001b[38;5;241m=\u001b[39m\u001b[38;5;241m1\u001b[39m)  \u001b[38;5;66;03m# Find rows belonging to closest cluster\u001b[39;00m\n",
      "\u001b[1;31mValueError\u001b[0m: Dataframes X, y, and u must have the same number of rows"
     ]
    }
   ],
   "source": [
    "\n",
    "\n",
    "\n",
    "# Reshape to make it 2D (necessary for LabelEncoder)\n",
    "new_request_2d = new_request.reshape(1, -1)\n",
    "\n",
    "# Encode the categorical variable\n",
    "label_encoder = LabelEncoder()\n",
    "new_request_encoded = label_encoder.fit_transform(new_request_2d[:, 1])\n",
    "\n",
    "# Replace the categorical column with the encoded value\n",
    "new_request_2d[:, 1] = new_request_encoded\n",
    "\n",
    "# Call the function with the encoded new request\n",
    "recommend_for_new_request(X=X_test, y=y_test, u=u, new_request=new_request)\n"
   ]
  },
  {
   "cell_type": "code",
   "execution_count": 93,
   "metadata": {},
   "outputs": [
    {
     "data": {
      "text/plain": [
       "(3, 7)"
      ]
     },
     "execution_count": 93,
     "metadata": {},
     "output_type": "execute_result"
    }
   ],
   "source": [
    "u.shape"
   ]
  },
  {
   "cell_type": "code",
   "execution_count": 94,
   "metadata": {},
   "outputs": [
    {
     "data": {
      "text/plain": [
       "(80, 7)"
      ]
     },
     "execution_count": 94,
     "metadata": {},
     "output_type": "execute_result"
    }
   ],
   "source": [
    "X.shape"
   ]
  },
  {
   "cell_type": "code",
   "execution_count": null,
   "metadata": {},
   "outputs": [],
   "source": []
  }
 ],
 "metadata": {
  "kernelspec": {
   "display_name": "base",
   "language": "python",
   "name": "python3"
  },
  "language_info": {
   "codemirror_mode": {
    "name": "ipython",
    "version": 3
   },
   "file_extension": ".py",
   "mimetype": "text/x-python",
   "name": "python",
   "nbconvert_exporter": "python",
   "pygments_lexer": "ipython3",
   "version": "3.11.5"
  }
 },
 "nbformat": 4,
 "nbformat_minor": 2
}
