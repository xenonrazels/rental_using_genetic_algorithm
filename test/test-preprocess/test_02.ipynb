{
 "cells": [
  {
   "cell_type": "code",
   "execution_count": 12,
   "metadata": {},
   "outputs": [],
   "source": [
    "import pandas as pd\n",
    "import seaborn as sns\n",
    "import matplotlib.pyplot as plt"
   ]
  },
  {
   "cell_type": "code",
   "execution_count": 13,
   "metadata": {},
   "outputs": [],
   "source": [
    "bookings_df = pd.read_csv('D:/WORK/test/major_proj_karuna/bikerental/data/synthetic_booking_data_nepal.csv')"
   ]
  },
  {
   "cell_type": "code",
   "execution_count": 14,
   "metadata": {},
   "outputs": [
    {
     "name": "stdout",
     "output_type": "stream",
     "text": [
      "                    userEmail  VehicleId    FromDate      ToDate  Status  \\\n",
      "0     andrealopez@example.org          4  23/03/2024  27/03/2024       0   \n",
      "1     andrealopez@example.org          3  20/03/2024  21/03/2024       0   \n",
      "2     andrealopez@example.org          3  02/04/2024  03/04/2024       2   \n",
      "3     andrealopez@example.org          3  20/02/2024  25/02/2024       1   \n",
      "4  priscillajones@example.org          5  07/03/2024  09/03/2024       1   \n",
      "\n",
      "                                             message  \n",
      "0  High somebody television understand cup. Chanc...  \n",
      "1  Total show least suggest. Certain use middle p...  \n",
      "2  Enough I short already later. Us senior eat re...  \n",
      "3     Past admit staff. Boy other western key place.  \n",
      "4  Mrs degree sell material full. Ability unit pa...  \n"
     ]
    }
   ],
   "source": [
    "# Display first few rows\n",
    "print(bookings_df.head())\n",
    "\n",
    "\n"
   ]
  },
  {
   "cell_type": "code",
   "execution_count": 15,
   "metadata": {},
   "outputs": [
    {
     "name": "stdout",
     "output_type": "stream",
     "text": [
      "<class 'pandas.core.frame.DataFrame'>\n",
      "RangeIndex: 5945 entries, 0 to 5944\n",
      "Data columns (total 6 columns):\n",
      " #   Column     Non-Null Count  Dtype \n",
      "---  ------     --------------  ----- \n",
      " 0   userEmail  5945 non-null   object\n",
      " 1   VehicleId  5945 non-null   int64 \n",
      " 2   FromDate   5945 non-null   object\n",
      " 3   ToDate     5945 non-null   object\n",
      " 4   Status     5945 non-null   int64 \n",
      " 5   message    5945 non-null   object\n",
      "dtypes: int64(2), object(4)\n",
      "memory usage: 278.8+ KB\n",
      "None\n"
     ]
    }
   ],
   "source": [
    "# Basic information\n",
    "print(bookings_df.info())"
   ]
  },
  {
   "cell_type": "code",
   "execution_count": 16,
   "metadata": {},
   "outputs": [
    {
     "name": "stdout",
     "output_type": "stream",
     "text": [
      "         VehicleId       Status\n",
      "count  5945.000000  5945.000000\n",
      "mean      3.005046     0.985870\n",
      "std       1.419548     0.815687\n",
      "min       1.000000     0.000000\n",
      "25%       2.000000     0.000000\n",
      "50%       3.000000     1.000000\n",
      "75%       4.000000     2.000000\n",
      "max       5.000000     2.000000\n"
     ]
    }
   ],
   "source": [
    "# Summary statistics\n",
    "print(bookings_df.describe())"
   ]
  },
  {
   "cell_type": "code",
   "execution_count": null,
   "metadata": {},
   "outputs": [],
   "source": []
  }
 ],
 "metadata": {
  "kernelspec": {
   "display_name": "base",
   "language": "python",
   "name": "python3"
  },
  "language_info": {
   "codemirror_mode": {
    "name": "ipython",
    "version": 3
   },
   "file_extension": ".py",
   "mimetype": "text/x-python",
   "name": "python",
   "nbconvert_exporter": "python",
   "pygments_lexer": "ipython3",
   "version": "3.11.5"
  }
 },
 "nbformat": 4,
 "nbformat_minor": 2
}
