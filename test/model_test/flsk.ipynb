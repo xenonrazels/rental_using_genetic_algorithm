{
 "cells": [
  {
   "cell_type": "code",
   "execution_count": 7,
   "metadata": {},
   "outputs": [],
   "source": [
    "from flask import Flask, jsonify\n",
    "from final_model import preprocess_data, recommendation_function, format_recommendations\n",
    "\n",
    "app = Flask(__name__)\n",
    "\n",
    "# Define route for getting recommendations\n",
    "@app.route('/recommendations', methods=['GET'])\n",
    "def get_recommendations():\n",
    "    # Preprocess the data\n",
    "    data = preprocess_data()\n",
    "    # Get recommendations\n",
    "    recommendations = recommendation_function(data)\n",
    "    # Format recommendations\n",
    "    formatted_output = format_recommendations(recommendations)\n",
    "    # Return formatted recommendations as JSON\n",
    "    return jsonify({'recommendations': formatted_output})\n",
    "\n",
    "# Prevent running the app in Jupyter Notebook\n",
    "\n"
   ]
  },
  {
   "cell_type": "code",
   "execution_count": 8,
   "metadata": {},
   "outputs": [
    {
     "name": "stdout",
     "output_type": "stream",
     "text": [
      " * Serving Flask app '__main__'\n",
      " * Debug mode: on\n"
     ]
    },
    {
     "name": "stderr",
     "output_type": "stream",
     "text": [
      "WARNING: This is a development server. Do not use it in a production deployment. Use a production WSGI server instead.\n",
      " * Running on http://127.0.0.1:5000\n",
      "Press CTRL+C to quit\n",
      " * Restarting with watchdog (windowsapi)\n"
     ]
    },
    {
     "ename": "SystemExit",
     "evalue": "1",
     "output_type": "error",
     "traceback": [
      "An exception has occurred, use %tb to see the full traceback.\n",
      "\u001b[1;31mSystemExit\u001b[0m\u001b[1;31m:\u001b[0m 1\n"
     ]
    }
   ],
   "source": [
    "def run_flask_app():\n",
    "    if __name__ == '__main__' and '__file__' not in globals():\n",
    "        app.run(debug=True)\n",
    "\n",
    "run_flask_app()"
   ]
  },
  {
   "cell_type": "code",
   "execution_count": null,
   "metadata": {},
   "outputs": [],
   "source": []
  }
 ],
 "metadata": {
  "kernelspec": {
   "display_name": "base",
   "language": "python",
   "name": "python3"
  },
  "language_info": {
   "codemirror_mode": {
    "name": "ipython",
    "version": 3
   },
   "file_extension": ".py",
   "mimetype": "text/x-python",
   "name": "python",
   "nbconvert_exporter": "python",
   "pygments_lexer": "ipython3",
   "version": "3.11.5"
  }
 },
 "nbformat": 4,
 "nbformat_minor": 2
}
