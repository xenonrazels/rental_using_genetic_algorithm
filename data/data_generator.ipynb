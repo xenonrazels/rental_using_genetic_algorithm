{
 "cells": [
  {
   "cell_type": "code",
   "execution_count": 1,
   "metadata": {},
   "outputs": [
    {
     "name": "stderr",
     "output_type": "stream",
     "text": [
      "c:\\Users\\Ripple\\AppData\\Local\\anaconda3\\Lib\\site-packages\\pandas\\core\\arrays\\masked.py:60: UserWarning: Pandas requires version '1.3.6' or newer of 'bottleneck' (version '1.3.5' currently installed).\n",
      "  from pandas.core import (\n"
     ]
    }
   ],
   "source": [
    "import pandas as pd\n",
    "import numpy as np\n",
    "import random\n",
    "from faker import Faker\n",
    "from datetime import datetime, timedelta"
   ]
  },
  {
   "cell_type": "code",
   "execution_count": 2,
   "metadata": {},
   "outputs": [],
   "source": [
    "# Load vehicle data from SQL dump\n",
    "vehicle_data = [\n",
    "    {\"id\": 1, \"VehiclesTitle\": \"SS400\", \"VehiclesBrand\": \"Bajaj\", \"PricePerDay\": 345345},\n",
    "    {\"id\": 2, \"VehiclesTitle\": \"RS200\", \"VehiclesBrand\": \"Bajaj\", \"PricePerDay\": 859},\n",
    "    {\"id\": 3, \"VehiclesTitle\": \"R1\", \"VehiclesBrand\": \"Suzuki\", \"PricePerDay\": 563},\n",
    "    {\"id\": 4, \"VehiclesTitle\": \"Duke390\", \"VehiclesBrand\": \"KTM\", \"PricePerDay\": 5636},\n",
    "    {\"id\": 5, \"VehiclesTitle\": \"R1\", \"VehiclesBrand\": \"Yamaha\", \"PricePerDay\": 345345}\n",
    "]"
   ]
  },
  {
   "cell_type": "code",
   "execution_count": 3,
   "metadata": {},
   "outputs": [],
   "source": [
    "# Generate synthetic user data\n",
    "fake = Faker()\n",
    "num_users = 2000\n",
    "\n",
    "users = []\n",
    "for _ in range(num_users):\n",
    "    users.append({\n",
    "        \"FullName\": fake.name(),\n",
    "        \"EmailId\": fake.email(),\n",
    "        \"ContactNo\": fake.phone_number(),\n",
    "        \"Country\": \"Nepal\"  # Assuming all users are from Nepal\n",
    "    })"
   ]
  },
  {
   "cell_type": "code",
   "execution_count": 4,
   "metadata": {},
   "outputs": [],
   "source": [
    "# Generate synthetic booking data for users from Nepal\n",
    "bookings = []\n",
    "for user in users:\n",
    "    num_bookings = random.randint(1, 5)\n",
    "    for _ in range(num_bookings):\n",
    "        vehicle = random.choice(vehicle_data)\n",
    "        from_date = fake.date_time_between(start_date='-30d', end_date='+30d')\n",
    "        to_date = from_date + timedelta(days=random.randint(1, 7))\n",
    "        bookings.append({\n",
    "            \"userEmail\": user[\"EmailId\"],\n",
    "            \"VehicleId\": vehicle[\"id\"],\n",
    "            \"FromDate\": from_date.strftime('%d/%m/%Y'),\n",
    "            \"ToDate\": to_date.strftime('%d/%m/%Y'),\n",
    "            \"Status\": random.randint(0, 2),\n",
    "            \"message\": fake.paragraph()\n",
    "        })\n"
   ]
  },
  {
   "cell_type": "code",
   "execution_count": 5,
   "metadata": {},
   "outputs": [],
   "source": [
    "# Convert data to DataFrame\n",
    "bookings_df = pd.DataFrame(bookings)\n"
   ]
  },
  {
   "cell_type": "code",
   "execution_count": 6,
   "metadata": {},
   "outputs": [],
   "source": [
    "# Export data to CSV\n",
    "bookings_df.to_csv('synthetic_booking_data_nepal.csv', index=False)"
   ]
  },
  {
   "cell_type": "code",
   "execution_count": 7,
   "metadata": {},
   "outputs": [],
   "source": [
    "df=pd.read_csv(\"synthetic_booking_data_nepal.csv\")"
   ]
  },
  {
   "cell_type": "code",
   "execution_count": 8,
   "metadata": {},
   "outputs": [
    {
     "data": {
      "text/html": [
       "<div>\n",
       "<style scoped>\n",
       "    .dataframe tbody tr th:only-of-type {\n",
       "        vertical-align: middle;\n",
       "    }\n",
       "\n",
       "    .dataframe tbody tr th {\n",
       "        vertical-align: top;\n",
       "    }\n",
       "\n",
       "    .dataframe thead th {\n",
       "        text-align: right;\n",
       "    }\n",
       "</style>\n",
       "<table border=\"1\" class=\"dataframe\">\n",
       "  <thead>\n",
       "    <tr style=\"text-align: right;\">\n",
       "      <th></th>\n",
       "      <th>userEmail</th>\n",
       "      <th>VehicleId</th>\n",
       "      <th>FromDate</th>\n",
       "      <th>ToDate</th>\n",
       "      <th>Status</th>\n",
       "      <th>message</th>\n",
       "    </tr>\n",
       "  </thead>\n",
       "  <tbody>\n",
       "    <tr>\n",
       "      <th>0</th>\n",
       "      <td>grahammelissa@example.org</td>\n",
       "      <td>5</td>\n",
       "      <td>31/03/2024</td>\n",
       "      <td>05/04/2024</td>\n",
       "      <td>1</td>\n",
       "      <td>Value behavior reveal also. Across scene page ...</td>\n",
       "    </tr>\n",
       "    <tr>\n",
       "      <th>1</th>\n",
       "      <td>grahammelissa@example.org</td>\n",
       "      <td>4</td>\n",
       "      <td>28/02/2024</td>\n",
       "      <td>06/03/2024</td>\n",
       "      <td>2</td>\n",
       "      <td>Take PM hour team road push. Particular take c...</td>\n",
       "    </tr>\n",
       "    <tr>\n",
       "      <th>2</th>\n",
       "      <td>grahammelissa@example.org</td>\n",
       "      <td>3</td>\n",
       "      <td>04/04/2024</td>\n",
       "      <td>09/04/2024</td>\n",
       "      <td>2</td>\n",
       "      <td>At edge movie live whether. Age stage believe ...</td>\n",
       "    </tr>\n",
       "    <tr>\n",
       "      <th>3</th>\n",
       "      <td>grahammelissa@example.org</td>\n",
       "      <td>2</td>\n",
       "      <td>11/03/2024</td>\n",
       "      <td>17/03/2024</td>\n",
       "      <td>1</td>\n",
       "      <td>History create decade woman act traditional. N...</td>\n",
       "    </tr>\n",
       "    <tr>\n",
       "      <th>4</th>\n",
       "      <td>grahammelissa@example.org</td>\n",
       "      <td>2</td>\n",
       "      <td>09/03/2024</td>\n",
       "      <td>16/03/2024</td>\n",
       "      <td>1</td>\n",
       "      <td>Nation garden pay whatever adult fact family.</td>\n",
       "    </tr>\n",
       "  </tbody>\n",
       "</table>\n",
       "</div>"
      ],
      "text/plain": [
       "                   userEmail  VehicleId    FromDate      ToDate  Status  \\\n",
       "0  grahammelissa@example.org          5  31/03/2024  05/04/2024       1   \n",
       "1  grahammelissa@example.org          4  28/02/2024  06/03/2024       2   \n",
       "2  grahammelissa@example.org          3  04/04/2024  09/04/2024       2   \n",
       "3  grahammelissa@example.org          2  11/03/2024  17/03/2024       1   \n",
       "4  grahammelissa@example.org          2  09/03/2024  16/03/2024       1   \n",
       "\n",
       "                                             message  \n",
       "0  Value behavior reveal also. Across scene page ...  \n",
       "1  Take PM hour team road push. Particular take c...  \n",
       "2  At edge movie live whether. Age stage believe ...  \n",
       "3  History create decade woman act traditional. N...  \n",
       "4      Nation garden pay whatever adult fact family.  "
      ]
     },
     "execution_count": 8,
     "metadata": {},
     "output_type": "execute_result"
    }
   ],
   "source": [
    "df.head()"
   ]
  },
  {
   "cell_type": "code",
   "execution_count": 9,
   "metadata": {},
   "outputs": [
    {
     "name": "stdout",
     "output_type": "stream",
     "text": [
      "<class 'pandas.core.frame.DataFrame'>\n",
      "RangeIndex: 6000 entries, 0 to 5999\n",
      "Data columns (total 6 columns):\n",
      " #   Column     Non-Null Count  Dtype \n",
      "---  ------     --------------  ----- \n",
      " 0   userEmail  6000 non-null   object\n",
      " 1   VehicleId  6000 non-null   int64 \n",
      " 2   FromDate   6000 non-null   object\n",
      " 3   ToDate     6000 non-null   object\n",
      " 4   Status     6000 non-null   int64 \n",
      " 5   message    6000 non-null   object\n",
      "dtypes: int64(2), object(4)\n",
      "memory usage: 281.4+ KB\n"
     ]
    }
   ],
   "source": [
    "df.info()"
   ]
  },
  {
   "cell_type": "code",
   "execution_count": 10,
   "metadata": {},
   "outputs": [
    {
     "data": {
      "text/html": [
       "<div>\n",
       "<style scoped>\n",
       "    .dataframe tbody tr th:only-of-type {\n",
       "        vertical-align: middle;\n",
       "    }\n",
       "\n",
       "    .dataframe tbody tr th {\n",
       "        vertical-align: top;\n",
       "    }\n",
       "\n",
       "    .dataframe thead th {\n",
       "        text-align: right;\n",
       "    }\n",
       "</style>\n",
       "<table border=\"1\" class=\"dataframe\">\n",
       "  <thead>\n",
       "    <tr style=\"text-align: right;\">\n",
       "      <th></th>\n",
       "      <th>userEmail</th>\n",
       "      <th>VehicleId</th>\n",
       "      <th>FromDate</th>\n",
       "      <th>ToDate</th>\n",
       "      <th>Status</th>\n",
       "      <th>message</th>\n",
       "    </tr>\n",
       "  </thead>\n",
       "  <tbody>\n",
       "    <tr>\n",
       "      <th>5995</th>\n",
       "      <td>athompson@example.net</td>\n",
       "      <td>4</td>\n",
       "      <td>28/03/2024</td>\n",
       "      <td>31/03/2024</td>\n",
       "      <td>0</td>\n",
       "      <td>Last save information civil.</td>\n",
       "    </tr>\n",
       "    <tr>\n",
       "      <th>5996</th>\n",
       "      <td>athompson@example.net</td>\n",
       "      <td>4</td>\n",
       "      <td>19/03/2024</td>\n",
       "      <td>23/03/2024</td>\n",
       "      <td>0</td>\n",
       "      <td>Particularly head school talk each course beco...</td>\n",
       "    </tr>\n",
       "    <tr>\n",
       "      <th>5997</th>\n",
       "      <td>nelsonjennifer@example.com</td>\n",
       "      <td>2</td>\n",
       "      <td>28/03/2024</td>\n",
       "      <td>29/03/2024</td>\n",
       "      <td>1</td>\n",
       "      <td>Plant world finish laugh yard run table model....</td>\n",
       "    </tr>\n",
       "    <tr>\n",
       "      <th>5998</th>\n",
       "      <td>nelsonjennifer@example.com</td>\n",
       "      <td>4</td>\n",
       "      <td>08/02/2024</td>\n",
       "      <td>12/02/2024</td>\n",
       "      <td>1</td>\n",
       "      <td>Play ask behind front. Democrat pass music stu...</td>\n",
       "    </tr>\n",
       "    <tr>\n",
       "      <th>5999</th>\n",
       "      <td>nelsonjennifer@example.com</td>\n",
       "      <td>4</td>\n",
       "      <td>11/03/2024</td>\n",
       "      <td>15/03/2024</td>\n",
       "      <td>2</td>\n",
       "      <td>Sea study big sign conference design realize. ...</td>\n",
       "    </tr>\n",
       "  </tbody>\n",
       "</table>\n",
       "</div>"
      ],
      "text/plain": [
       "                       userEmail  VehicleId    FromDate      ToDate  Status  \\\n",
       "5995       athompson@example.net          4  28/03/2024  31/03/2024       0   \n",
       "5996       athompson@example.net          4  19/03/2024  23/03/2024       0   \n",
       "5997  nelsonjennifer@example.com          2  28/03/2024  29/03/2024       1   \n",
       "5998  nelsonjennifer@example.com          4  08/02/2024  12/02/2024       1   \n",
       "5999  nelsonjennifer@example.com          4  11/03/2024  15/03/2024       2   \n",
       "\n",
       "                                                message  \n",
       "5995                       Last save information civil.  \n",
       "5996  Particularly head school talk each course beco...  \n",
       "5997  Plant world finish laugh yard run table model....  \n",
       "5998  Play ask behind front. Democrat pass music stu...  \n",
       "5999  Sea study big sign conference design realize. ...  "
      ]
     },
     "execution_count": 10,
     "metadata": {},
     "output_type": "execute_result"
    }
   ],
   "source": [
    "df.tail()"
   ]
  },
  {
   "cell_type": "code",
   "execution_count": 15,
   "metadata": {},
   "outputs": [
    {
     "data": {
      "text/plain": [
       "4008"
      ]
     },
     "execution_count": 15,
     "metadata": {},
     "output_type": "execute_result"
    }
   ],
   "source": [
    "df['userEmail'].duplicated().sum()"
   ]
  },
  {
   "cell_type": "code",
   "execution_count": 17,
   "metadata": {},
   "outputs": [],
   "source": [
    "df_drop=df['userEmail'].drop_duplicates()"
   ]
  },
  {
   "cell_type": "code",
   "execution_count": 21,
   "metadata": {},
   "outputs": [
    {
     "data": {
      "text/plain": [
       "(1992,)"
      ]
     },
     "execution_count": 21,
     "metadata": {},
     "output_type": "execute_result"
    }
   ],
   "source": [
    "df_drop.shape"
   ]
  },
  {
   "cell_type": "code",
   "execution_count": null,
   "metadata": {},
   "outputs": [],
   "source": []
  }
 ],
 "metadata": {
  "kernelspec": {
   "display_name": "base",
   "language": "python",
   "name": "python3"
  },
  "language_info": {
   "codemirror_mode": {
    "name": "ipython",
    "version": 3
   },
   "file_extension": ".py",
   "mimetype": "text/x-python",
   "name": "python",
   "nbconvert_exporter": "python",
   "pygments_lexer": "ipython3",
   "version": "3.11.5"
  }
 },
 "nbformat": 4,
 "nbformat_minor": 2
}
