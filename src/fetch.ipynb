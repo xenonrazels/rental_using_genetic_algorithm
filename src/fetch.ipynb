{
 "cells": [
  {
   "cell_type": "code",
   "execution_count": 1,
   "metadata": {},
   "outputs": [
    {
     "name": "stdout",
     "output_type": "stream",
     "text": [
      "Error: (1054, \"Unknown column 'UserName' in 'where clause'\")\n"
     ]
    }
   ],
   "source": [
    "import pymysql\n",
    "\n",
    "def fetch_user_info(user_id):\n",
    "    connection = None\n",
    "    try:\n",
    "        connection = pymysql.connect(host='127.0.0.1',\n",
    "                                     port=3307,\n",
    "                                     user='root',\n",
    "                                     password='',\n",
    "                                     db='bikerental')\n",
    "\n",
    "        with connection.cursor() as cursor:\n",
    "            query = \"SELECT FullName, EmailId FROM tblusers WHERE id = %s\"\n",
    "            cursor.execute(query, (user_id,))\n",
    "            result = cursor.fetchone()\n",
    "            if result:\n",
    "                full_name, email = result\n",
    "                return full_name, email\n",
    "            else:\n",
    "                print(\"User not found.\")\n",
    "                return None, None\n",
    "\n",
    "    except pymysql.Error as e:\n",
    "        print(f\"Error: {e}\")\n",
    "        return None, None\n",
    "\n",
    "    finally:\n",
    "        if connection:\n",
    "            connection.close()\n",
    "\n",
    "def login(username, password):\n",
    "    connection = None\n",
    "    try:\n",
    "        connection = pymysql.connect(host='127.0.0.1',\n",
    "                                     port=3307,\n",
    "                                     user='root',\n",
    "                                     password='',\n",
    "                                     db='bikerental')\n",
    "\n",
    "        with connection.cursor() as cursor:\n",
    "            query = \"SELECT id FROM tblusers WHERE UserName = %s AND Password = %s\"\n",
    "            cursor.execute(query, (username, password))\n",
    "            result = cursor.fetchone()\n",
    "            if result:\n",
    "                user_id = result[0]\n",
    "                return user_id\n",
    "            else:\n",
    "                print(\"Invalid username or password.\")\n",
    "                return None\n",
    "\n",
    "    except pymysql.Error as e:\n",
    "        print(f\"Error: {e}\")\n",
    "        return None\n",
    "\n",
    "    finally:\n",
    "        if connection:\n",
    "            connection.close()\n",
    "\n",
    "# Example usage:\n",
    "username = 'admin'\n",
    "password = 'password'\n",
    "user_id = login(username, password)\n",
    "if user_id:\n",
    "    full_name, email = fetch_user_info(user_id)\n",
    "    if full_name and email:\n",
    "        print(\"User's Name:\", full_name)\n",
    "        print(\"User's Email:\", email)\n",
    "    else:\n",
    "        print(\"User not found or error occurred.\")\n"
   ]
  },
  {
   "cell_type": "code",
   "execution_count": 2,
   "metadata": {},
   "outputs": [
    {
     "name": "stdout",
     "output_type": "stream",
     "text": [
      "User's Name: Tom K\n",
      "User's Email: test@gmail.com\n"
     ]
    }
   ],
   "source": [
    "# Example usage with provided user information:\n",
    "user_id = 4\n",
    "full_name, email = fetch_user_info(user_id)\n",
    "if full_name and email:\n",
    "    print(\"User's Name:\", full_name)\n",
    "    print(\"User's Email:\", email)\n",
    "else:\n",
    "    print(\"User not found or error occurred.\")"
   ]
  },
  {
   "cell_type": "code",
   "execution_count": null,
   "metadata": {},
   "outputs": [],
   "source": []
  }
 ],
 "metadata": {
  "kernelspec": {
   "display_name": "base",
   "language": "python",
   "name": "python3"
  },
  "language_info": {
   "codemirror_mode": {
    "name": "ipython",
    "version": 3
   },
   "file_extension": ".py",
   "mimetype": "text/x-python",
   "name": "python",
   "nbconvert_exporter": "python",
   "pygments_lexer": "ipython3",
   "version": "3.11.5"
  }
 },
 "nbformat": 4,
 "nbformat_minor": 2
}
